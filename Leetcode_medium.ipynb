{
 "cells": [
  {
   "cell_type": "markdown",
   "id": "379c0c7f-d94f-46cd-91d3-ac1abe8e2e3b",
   "metadata": {},
   "source": [
    "# Arrays and strings"
   ]
  },
  {
   "cell_type": "markdown",
   "id": "1f46b304-11d7-4535-99b7-b849a9b5b0bc",
   "metadata": {},
   "source": [
    "## Set matrix zeroes"
   ]
  },
  {
   "cell_type": "code",
   "execution_count": 40,
   "id": "84f0595d-55f9-42b1-9da5-2a796c9c9ab2",
   "metadata": {},
   "outputs": [],
   "source": [
    "def find_zeroes(matrix):\n",
    "    \"\"\"\n",
    "    Find zeroes in matrix and return their indexes\n",
    "    \"\"\"\n",
    "    \n",
    "    i_ = []\n",
    "    j_ = []\n",
    "    \n",
    "    for i, row in enumerate(matrix):\n",
    "\n",
    "        for j, num in enumerate(row):\n",
    "            if num == 0:\n",
    "                i_.append(i)\n",
    "                j_.append(j)\n",
    "    \n",
    "    return [i_, j_]"
   ]
  },
  {
   "cell_type": "code",
   "execution_count": 35,
   "id": "15b28da0-3285-4616-aa0b-50a8f06c24a2",
   "metadata": {},
   "outputs": [
    {
     "data": {
      "text/plain": [
       "[[1], [1]]"
      ]
     },
     "execution_count": 35,
     "metadata": {},
     "output_type": "execute_result"
    }
   ],
   "source": [
    "matrix = [[1,1,1],[1,0,1],[1,1,1]]\n",
    "find_zeroes(matrix)"
   ]
  },
  {
   "cell_type": "code",
   "execution_count": 36,
   "id": "9f568b35-5689-41ab-94db-6a99c28305ce",
   "metadata": {},
   "outputs": [
    {
     "data": {
      "text/plain": [
       "[[0, 0], [0, 3]]"
      ]
     },
     "execution_count": 36,
     "metadata": {},
     "output_type": "execute_result"
    }
   ],
   "source": [
    "matrix = [[0,1,2,0],[3,4,5,2],[1,3,1,5]]\n",
    "find_zeroes(matrix)"
   ]
  },
  {
   "cell_type": "code",
   "execution_count": 37,
   "id": "910f69cc-0014-43eb-92a4-a34bd7e9cf13",
   "metadata": {},
   "outputs": [],
   "source": [
    "def set_zeroes(matrix):\n",
    "    \n",
    "    indexes = find_zeroes(matrix)\n",
    "    i_ = indexes[0]\n",
    "    j_ = indexes[1]\n",
    "    \n",
    "    for i, row in enumerate(matrix):\n",
    "                \n",
    "        for j, num in enumerate(row):\n",
    "            \n",
    "            if i in i_ or j in j_:\n",
    "                matrix[i][j] = 0\n",
    "    \n",
    "    return matrix"
   ]
  },
  {
   "cell_type": "code",
   "execution_count": 38,
   "id": "671269f5-bc2f-4e45-acfe-f1cb810cdcb0",
   "metadata": {},
   "outputs": [
    {
     "data": {
      "text/plain": [
       "[[1, 0, 1], [0, 0, 0], [1, 0, 1]]"
      ]
     },
     "execution_count": 38,
     "metadata": {},
     "output_type": "execute_result"
    }
   ],
   "source": [
    "matrix = [[1,1,1],[1,0,1],[1,1,1]]\n",
    "set_zeroes(matrix)"
   ]
  },
  {
   "cell_type": "code",
   "execution_count": 39,
   "id": "f0924518-9907-48ca-afbe-5ab81cab2b3a",
   "metadata": {},
   "outputs": [
    {
     "data": {
      "text/plain": [
       "[[0, 0, 0, 0], [0, 4, 5, 0], [0, 3, 1, 0]]"
      ]
     },
     "execution_count": 39,
     "metadata": {},
     "output_type": "execute_result"
    }
   ],
   "source": [
    "matrix = [[0,1,2,0],[3,4,5,2],[1,3,1,5]]\n",
    "set_zeroes(matrix)"
   ]
  },
  {
   "cell_type": "markdown",
   "id": "0a8e71bb-36d8-4fd4-9402-aa6812f5b130",
   "metadata": {},
   "source": [
    "## Longest substring without repeating characters"
   ]
  },
  {
   "cell_type": "code",
   "execution_count": 56,
   "id": "df9a0e79-bd77-4363-9efc-338d83827ae9",
   "metadata": {},
   "outputs": [],
   "source": [
    "def longest_substring(string):\n",
    "    \n",
    "    N = len(string)\n",
    "    \n",
    "    i = 0\n",
    "    \n",
    "    max_length = 0\n",
    "    for j in range(1,N):\n",
    "        \n",
    "        substring = string[i:j]\n",
    "        # print(substring, i, j) # for debugging\n",
    "\n",
    "        if string[j] in substring:\n",
    "            i = j\n",
    "            length = len(substring)\n",
    "            \n",
    "            if length > max_length:\n",
    "                max_length = length\n",
    "            \n",
    "    \n",
    "    return max_length\n",
    "            \n",
    "    \n",
    "    "
   ]
  },
  {
   "cell_type": "code",
   "execution_count": 57,
   "id": "76d58e6b-469e-4476-9920-15b95a01ab04",
   "metadata": {},
   "outputs": [
    {
     "name": "stdout",
     "output_type": "stream",
     "text": [
      "a 0 1\n",
      "ab 0 2\n",
      "abc 0 3\n",
      "a 3 4\n",
      "ab 3 5\n",
      "abc 3 6\n",
      "b 6 7\n"
     ]
    },
    {
     "data": {
      "text/plain": [
       "3"
      ]
     },
     "execution_count": 57,
     "metadata": {},
     "output_type": "execute_result"
    }
   ],
   "source": [
    "s = \"abcabcbb\"\n",
    "longest_substring(s)"
   ]
  },
  {
   "cell_type": "code",
   "execution_count": 58,
   "id": "8c7fb759-cb04-4004-8059-b84ef6941c7e",
   "metadata": {},
   "outputs": [
    {
     "name": "stdout",
     "output_type": "stream",
     "text": [
      "b 0 1\n",
      "b 1 2\n",
      "b 2 3\n",
      "b 3 4\n"
     ]
    },
    {
     "data": {
      "text/plain": [
       "1"
      ]
     },
     "execution_count": 58,
     "metadata": {},
     "output_type": "execute_result"
    }
   ],
   "source": [
    "s = \"bbbbb\"\n",
    "longest_substring(s)"
   ]
  },
  {
   "cell_type": "code",
   "execution_count": 59,
   "id": "e698bb82-b2b8-4e94-a333-14a3eb05f5cb",
   "metadata": {},
   "outputs": [
    {
     "name": "stdout",
     "output_type": "stream",
     "text": [
      "p 0 1\n",
      "pw 0 2\n",
      "w 2 3\n",
      "wk 2 4\n",
      "wke 2 5\n"
     ]
    },
    {
     "data": {
      "text/plain": [
       "3"
      ]
     },
     "execution_count": 59,
     "metadata": {},
     "output_type": "execute_result"
    }
   ],
   "source": [
    "s = \"pwwkew\"\n",
    "longest_substring(s)"
   ]
  },
  {
   "cell_type": "markdown",
   "id": "2d6340c3-123e-4c74-aa85-f0c0a048cc74",
   "metadata": {},
   "source": [
    "## Longest palindromic substring"
   ]
  },
  {
   "cell_type": "code",
   "execution_count": 74,
   "id": "99216227-24e6-4747-b283-a703aea4a9e3",
   "metadata": {},
   "outputs": [],
   "source": [
    "def check_palindrome(string):\n",
    "    \n",
    "    return string == string[::-1]"
   ]
  },
  {
   "cell_type": "code",
   "execution_count": 75,
   "id": "62869fd9-ed6b-493b-a6c9-af11ae37261c",
   "metadata": {},
   "outputs": [],
   "source": [
    "def longest_palindrome(string):\n",
    "    \n",
    "    N = len(string)\n",
    "    \n",
    "    max_length = 0\n",
    "    for i in range(N):\n",
    "        \n",
    "        for j in range(N+1):\n",
    "            \n",
    "            substring = string[i:j]\n",
    "            if check_palindrome(substring):\n",
    "                length = len(substring)\n",
    "                \n",
    "            if length > max_length:\n",
    "                max_length = length\n",
    "    \n",
    "    return max_length"
   ]
  },
  {
   "cell_type": "code",
   "execution_count": 76,
   "id": "d838cb1b-67b2-4902-be81-0a91729fcaae",
   "metadata": {},
   "outputs": [
    {
     "data": {
      "text/plain": [
       "3"
      ]
     },
     "execution_count": 76,
     "metadata": {},
     "output_type": "execute_result"
    }
   ],
   "source": [
    "s = 'bab'\n",
    "longest_palindrome(s)"
   ]
  },
  {
   "cell_type": "code",
   "execution_count": 77,
   "id": "5ad90bcb-9e22-453a-a234-ab4134f1bc31",
   "metadata": {},
   "outputs": [
    {
     "data": {
      "text/plain": [
       "5"
      ]
     },
     "execution_count": 77,
     "metadata": {},
     "output_type": "execute_result"
    }
   ],
   "source": [
    "s = 'babadab'\n",
    "longest_palindrome(s)"
   ]
  },
  {
   "cell_type": "code",
   "execution_count": 78,
   "id": "4cc21e31-a04a-411b-aeab-d359bc7df7ba",
   "metadata": {},
   "outputs": [
    {
     "data": {
      "text/plain": [
       "2"
      ]
     },
     "execution_count": 78,
     "metadata": {},
     "output_type": "execute_result"
    }
   ],
   "source": [
    "s = 'cbbd'\n",
    "longest_palindrome(s)"
   ]
  },
  {
   "cell_type": "markdown",
   "id": "f211c09f-8926-4b63-9308-dec842e00698",
   "metadata": {},
   "source": [
    "## Increasing Triplet Subsequence"
   ]
  },
  {
   "cell_type": "code",
   "execution_count": 3,
   "id": "d7ead79c-c971-4c8c-952d-2f34d56a9db6",
   "metadata": {},
   "outputs": [],
   "source": [
    "def triplets(nums):\n",
    "    \n",
    "    N  = len(nums)\n",
    "    \n",
    "    for i in range(N):\n",
    "        \n",
    "        for j in range(N):\n",
    "            \n",
    "            for k in range(N):\n",
    "                \n",
    "                if i < j < k and nums[i] < nums[j] < nums[k]:\n",
    "                    \n",
    "                    return True\n",
    "    return False"
   ]
  },
  {
   "cell_type": "code",
   "execution_count": 4,
   "id": "dd381ad4-3bf0-482b-803c-32995c4a7e8e",
   "metadata": {},
   "outputs": [
    {
     "data": {
      "text/plain": [
       "True"
      ]
     },
     "execution_count": 4,
     "metadata": {},
     "output_type": "execute_result"
    }
   ],
   "source": [
    "nums = [1,2,3,4,5]\n",
    "triplets(nums)"
   ]
  },
  {
   "cell_type": "code",
   "execution_count": 5,
   "id": "d52ccf90-d539-4afb-90d5-f80f10c70918",
   "metadata": {},
   "outputs": [
    {
     "data": {
      "text/plain": [
       "False"
      ]
     },
     "execution_count": 5,
     "metadata": {},
     "output_type": "execute_result"
    }
   ],
   "source": [
    "nums = [5,4,3,2,1]\n",
    "triplets(nums)"
   ]
  },
  {
   "cell_type": "code",
   "execution_count": 6,
   "id": "27b43f3e-5ed2-4891-bbe2-9433cd86d55a",
   "metadata": {},
   "outputs": [
    {
     "data": {
      "text/plain": [
       "True"
      ]
     },
     "execution_count": 6,
     "metadata": {},
     "output_type": "execute_result"
    }
   ],
   "source": [
    "nums = [2,1,5,0,4,6]\n",
    "triplets(nums)"
   ]
  },
  {
   "cell_type": "code",
   "execution_count": 22,
   "id": "5b180f59-ab72-4e9d-a8e3-2e150a5d2c21",
   "metadata": {},
   "outputs": [],
   "source": [
    "def triplets(nums):\n",
    "    \n",
    "    N = len(nums)\n",
    "    \n",
    "    array = [float('+inf')]*3\n",
    "    \n",
    "    for num in nums:\n",
    "        \n",
    "        # first place\n",
    "        if num < array[0] and num < array[1] and num < array[2]:\n",
    "            array[0] = num\n",
    "        elif num > array[0] and num < array[1] and num < array[2]:\n",
    "            array[1] = num\n",
    "        elif num > array[0] and num > array[1] and num < array[2]:\n",
    "            array[2] = num\n",
    "            return True\n",
    "        print(array) # for debugging\n",
    "    \n",
    "    return False"
   ]
  },
  {
   "cell_type": "code",
   "execution_count": 23,
   "id": "ec86d55c-7990-4301-9fed-8ad11d72057a",
   "metadata": {},
   "outputs": [
    {
     "name": "stdout",
     "output_type": "stream",
     "text": [
      "[1, inf, inf]\n",
      "[1, 2, inf]\n"
     ]
    },
    {
     "data": {
      "text/plain": [
       "True"
      ]
     },
     "execution_count": 23,
     "metadata": {},
     "output_type": "execute_result"
    }
   ],
   "source": [
    "nums = [1,2,3,4,5]\n",
    "triplets(nums)"
   ]
  },
  {
   "cell_type": "code",
   "execution_count": 24,
   "id": "a9785880-4ab9-4785-9cc4-5f9880a62bb6",
   "metadata": {},
   "outputs": [
    {
     "name": "stdout",
     "output_type": "stream",
     "text": [
      "[5, inf, inf]\n",
      "[4, inf, inf]\n",
      "[3, inf, inf]\n",
      "[2, inf, inf]\n",
      "[1, inf, inf]\n"
     ]
    },
    {
     "data": {
      "text/plain": [
       "False"
      ]
     },
     "execution_count": 24,
     "metadata": {},
     "output_type": "execute_result"
    }
   ],
   "source": [
    "nums = [5,4,3,2,1]\n",
    "triplets(nums)"
   ]
  },
  {
   "cell_type": "code",
   "execution_count": 25,
   "id": "e0c6d52d-78a1-4af1-b2ef-076b02110554",
   "metadata": {},
   "outputs": [
    {
     "name": "stdout",
     "output_type": "stream",
     "text": [
      "[2, inf, inf]\n",
      "[1, inf, inf]\n",
      "[1, 5, inf]\n",
      "[0, 5, inf]\n",
      "[0, 4, inf]\n"
     ]
    },
    {
     "data": {
      "text/plain": [
       "True"
      ]
     },
     "execution_count": 25,
     "metadata": {},
     "output_type": "execute_result"
    }
   ],
   "source": [
    "nums = [2,1,5,0,4,6]\n",
    "triplets(nums)"
   ]
  },
  {
   "cell_type": "code",
   "execution_count": 26,
   "id": "93980edd-511e-4cb9-bc08-08255807dbcf",
   "metadata": {},
   "outputs": [
    {
     "name": "stdout",
     "output_type": "stream",
     "text": [
      "[1, inf, inf]\n",
      "[1, 6, inf]\n",
      "[1, 3, inf]\n"
     ]
    },
    {
     "data": {
      "text/plain": [
       "True"
      ]
     },
     "execution_count": 26,
     "metadata": {},
     "output_type": "execute_result"
    }
   ],
   "source": [
    "nums = [1,6,3,4,5]\n",
    "triplets(nums)"
   ]
  },
  {
   "cell_type": "markdown",
   "id": "0cc87717-7826-4168-bd13-ec339c8f1ac6",
   "metadata": {},
   "source": [
    "## Group anagrams"
   ]
  },
  {
   "cell_type": "code",
   "execution_count": 27,
   "id": "4b3c962a-9029-4228-9590-5a65d8247008",
   "metadata": {},
   "outputs": [],
   "source": [
    "strs = [\"eat\",\"tea\",\"tan\",\"ate\",\"nat\",\"bat\"]"
   ]
  },
  {
   "cell_type": "code",
   "execution_count": null,
   "id": "c142dc9f-67bd-49fb-ad35-48c23d25c3ad",
   "metadata": {},
   "outputs": [],
   "source": [
    "def group_anagrams(string):\n",
    "    \n",
    "    N = len(string)\n",
    "    anagrams = {}\n",
    "    \n",
    "    for i, word in enumerate(string):\n",
    "        \n",
    "        anagrams[word]\n",
    "        for key in anagrams.keys():\n",
    "            if set(word) == set(key):\n",
    "                anagrams[key] = dict.get(i, 0) + append(i)\n",
    "        \n",
    "        "
   ]
  },
  {
   "cell_type": "code",
   "execution_count": 31,
   "id": "6a1e649e-1e75-44c5-8fa1-f334d425185e",
   "metadata": {},
   "outputs": [
    {
     "data": {
      "text/plain": [
       "True"
      ]
     },
     "execution_count": 31,
     "metadata": {},
     "output_type": "execute_result"
    }
   ],
   "source": [
    "set('eat') == set('tea')"
   ]
  },
  {
   "cell_type": "code",
   "execution_count": 32,
   "id": "44f48280-5665-45d3-b82b-0a00c23486f0",
   "metadata": {},
   "outputs": [],
   "source": [
    "A ={}"
   ]
  },
  {
   "cell_type": "code",
   "execution_count": 34,
   "id": "7f5cc6eb-7ade-4ed0-b1d0-48fff058bb72",
   "metadata": {},
   "outputs": [
    {
     "name": "stdout",
     "output_type": "stream",
     "text": [
      "None\n"
     ]
    }
   ],
   "source": [
    "print(A.get('A'))"
   ]
  },
  {
   "cell_type": "markdown",
   "id": "c2451b7e-91c0-4098-a5a1-c6d1543d1c11",
   "metadata": {},
   "source": [
    "## 3Sum"
   ]
  },
  {
   "cell_type": "code",
   "execution_count": 23,
   "id": "c8a9c33f-a246-4563-bb11-95e538e5923f",
   "metadata": {},
   "outputs": [],
   "source": [
    "# brute force approach\n",
    "def three_sum(array):\n",
    "    \n",
    "    answers = []\n",
    "    N = len(array)\n",
    "    \n",
    "    for i in range(N):\n",
    "        \n",
    "        for j in range(N):\n",
    "            \n",
    "            for k in range(N):\n",
    "                \n",
    "                if i != j and i != k and j != k and nums[i] + nums[j] + nums[k] == 0:\n",
    "                    potential = [nums[i], nums[j], nums[k]]\n",
    "                    include = True\n",
    "                    for answer in answers:\n",
    "                        if set(answer) == set(potential):\n",
    "                            include = False\n",
    "                            \n",
    "                    if include:\n",
    "                        answers.append(potential)\n",
    "    return answers"
   ]
  },
  {
   "cell_type": "code",
   "execution_count": 24,
   "id": "49d5aa7d-57d7-4549-99cb-48c351c05cde",
   "metadata": {},
   "outputs": [
    {
     "data": {
      "text/plain": [
       "[[-1, 0, 1], [-1, 2, -1]]"
      ]
     },
     "execution_count": 24,
     "metadata": {},
     "output_type": "execute_result"
    }
   ],
   "source": [
    "nums = [-1,0,1,2,-1,-4]\n",
    "sol = three_sum(nums)\n",
    "sol"
   ]
  },
  {
   "cell_type": "code",
   "execution_count": 25,
   "id": "6ab2d72d-220f-43cd-8800-a6b742b3172b",
   "metadata": {},
   "outputs": [
    {
     "data": {
      "text/plain": [
       "[]"
      ]
     },
     "execution_count": 25,
     "metadata": {},
     "output_type": "execute_result"
    }
   ],
   "source": [
    "nums = [3,3,3]\n",
    "three_sum(nums)"
   ]
  },
  {
   "cell_type": "code",
   "execution_count": 26,
   "id": "cf25bac2-4e89-4bb3-80e4-16ce0f0cf07f",
   "metadata": {},
   "outputs": [
    {
     "data": {
      "text/plain": [
       "[[0, 0, 0]]"
      ]
     },
     "execution_count": 26,
     "metadata": {},
     "output_type": "execute_result"
    }
   ],
   "source": [
    "nums = [0,0,0]\n",
    "three_sum(nums)"
   ]
  },
  {
   "cell_type": "markdown",
   "id": "a4262206-a6f1-4193-82dc-727329c6a363",
   "metadata": {},
   "source": [
    "## Best time to buy and sell stock"
   ]
  },
  {
   "cell_type": "code",
   "execution_count": 2,
   "id": "6f009b28-2268-4eda-a566-bd84153eea0f",
   "metadata": {},
   "outputs": [],
   "source": [
    "prices = [7,1,5,3,6,4,]"
   ]
  },
  {
   "cell_type": "code",
   "execution_count": 7,
   "id": "6229009e-2ef6-42f4-aee3-352b76d491a0",
   "metadata": {},
   "outputs": [],
   "source": [
    "def best_time_buy_sell(array):\n",
    "    \n",
    "    min_value = 100000\n",
    "    max_value = 0\n",
    "    \n",
    "    max_profit = 0\n",
    "    \n",
    "    N = len(array)\n",
    "    \n",
    "    for j in range(N):\n",
    "        \n",
    "        if array[j] < min_value:\n",
    "            min_value = array[j]\n",
    "            buy_index = j\n",
    "            \n",
    "        if array[j] > max_value and j > buy_index:\n",
    "            max_value = array[j]\n",
    "            \n",
    "    profit = max_value - min_value\n",
    "    \n",
    "    if profit > 0:\n",
    "        return profit\n",
    "    else:\n",
    "        return 0\n",
    "        \n",
    "        \n",
    "        "
   ]
  },
  {
   "cell_type": "code",
   "execution_count": 8,
   "id": "a5dd914f-4752-4670-af96-54c2e02cda47",
   "metadata": {},
   "outputs": [
    {
     "data": {
      "text/plain": [
       "5"
      ]
     },
     "execution_count": 8,
     "metadata": {},
     "output_type": "execute_result"
    }
   ],
   "source": [
    "prices = [7,1,5,3,6,4,]\n",
    "best_time_buy_sell(prices)"
   ]
  },
  {
   "cell_type": "code",
   "execution_count": 9,
   "id": "d090d706-1e63-4a62-bf0e-9584e95887b0",
   "metadata": {},
   "outputs": [
    {
     "data": {
      "text/plain": [
       "4"
      ]
     },
     "execution_count": 9,
     "metadata": {},
     "output_type": "execute_result"
    }
   ],
   "source": [
    "prices = [1,5]\n",
    "best_time_buy_sell(prices)"
   ]
  },
  {
   "cell_type": "code",
   "execution_count": 10,
   "id": "84b21da8-a71d-40a3-8eb4-a1ab6ca954a0",
   "metadata": {},
   "outputs": [
    {
     "data": {
      "text/plain": [
       "0"
      ]
     },
     "execution_count": 10,
     "metadata": {},
     "output_type": "execute_result"
    }
   ],
   "source": [
    "prices = [5,4,3,2,1]\n",
    "best_time_buy_sell(prices)"
   ]
  },
  {
   "cell_type": "code",
   "execution_count": 11,
   "id": "72333c97-ed38-4898-9c26-5065d70a9c38",
   "metadata": {},
   "outputs": [
    {
     "data": {
      "text/plain": [
       "99"
      ]
     },
     "execution_count": 11,
     "metadata": {},
     "output_type": "execute_result"
    }
   ],
   "source": [
    "prices = [1,6,100]\n",
    "best_time_buy_sell(prices)"
   ]
  },
  {
   "cell_type": "markdown",
   "id": "2b4b5bf5-027c-425b-89b2-edc0a5c110cf",
   "metadata": {},
   "source": [
    "# Math"
   ]
  },
  {
   "cell_type": "markdown",
   "id": "4059e7ea-9e77-445e-99c2-be5cbdb23d00",
   "metadata": {},
   "source": [
    "## Pow(x, n)"
   ]
  },
  {
   "cell_type": "code",
   "execution_count": 23,
   "id": "e611d795-3715-4a0f-b607-38aa5ea4d41e",
   "metadata": {},
   "outputs": [],
   "source": [
    "def power(x, n):\n",
    "    \n",
    "    if type(n) != int:\n",
    "        raise ValueError('n not integer')\n",
    "        \n",
    "    ans = 1\n",
    "    \n",
    "    if n == 0:\n",
    "        ans = 1\n",
    "    elif n >= 1:\n",
    "        for i in range(n):\n",
    "            ans = ans * x\n",
    "    elif n <= -1:\n",
    "        for i in range(abs(n)):\n",
    "            ans = ans * x       \n",
    "        ans = 1/ans\n",
    "\n",
    "    \n",
    "    return ans"
   ]
  },
  {
   "cell_type": "code",
   "execution_count": 36,
   "id": "ff5412d5-1389-4880-bb32-88f0d789183e",
   "metadata": {},
   "outputs": [
    {
     "name": "stdout",
     "output_type": "stream",
     "text": [
      "CPU times: user 7 µs, sys: 1 µs, total: 8 µs\n",
      "Wall time: 10.5 µs\n"
     ]
    },
    {
     "data": {
      "text/plain": [
       "2037035976334486086268445688409378161051468393665936250636140449354381299763336706183397376"
      ]
     },
     "execution_count": 36,
     "metadata": {},
     "output_type": "execute_result"
    }
   ],
   "source": [
    "%%time\n",
    "power(2, 300)"
   ]
  },
  {
   "cell_type": "code",
   "execution_count": 25,
   "id": "3f6580d4-74b9-4efe-9836-9b8e6fd7777e",
   "metadata": {},
   "outputs": [
    {
     "data": {
      "text/plain": [
       "9.261000000000001"
      ]
     },
     "execution_count": 25,
     "metadata": {},
     "output_type": "execute_result"
    }
   ],
   "source": [
    "power(2.1, 3)"
   ]
  },
  {
   "cell_type": "code",
   "execution_count": 26,
   "id": "46104843-60f2-456a-a46e-8af5a0a13c4a",
   "metadata": {},
   "outputs": [
    {
     "data": {
      "text/plain": [
       "0.25"
      ]
     },
     "execution_count": 26,
     "metadata": {},
     "output_type": "execute_result"
    }
   ],
   "source": [
    "power(2, -2)"
   ]
  },
  {
   "cell_type": "code",
   "execution_count": 27,
   "id": "77cc29cf-8b2f-4f78-80f8-fced12e8531e",
   "metadata": {},
   "outputs": [
    {
     "data": {
      "text/plain": [
       "0.3333333333333333"
      ]
     },
     "execution_count": 27,
     "metadata": {},
     "output_type": "execute_result"
    }
   ],
   "source": [
    "power(3, -1)"
   ]
  },
  {
   "cell_type": "code",
   "execution_count": 30,
   "id": "426b211a-8fcf-42a2-b906-bf410ff4a5e0",
   "metadata": {},
   "outputs": [],
   "source": [
    "def power2(x, n):\n",
    "    if type(n) != int:\n",
    "        raise ValueError('n not integer')\n",
    "        \n",
    "    if n == 0:\n",
    "        return 1\n",
    "    elif n < 0:\n",
    "        x = 1/x\n",
    "        n = -n\n",
    "    \n",
    "    ans = 1\n",
    "    while n > 0:\n",
    "        if n % 2 == 1:\n",
    "            ans *= x\n",
    "        x *= x\n",
    "        n //= 2\n",
    "        \n",
    "    return ans\n"
   ]
  },
  {
   "cell_type": "code",
   "execution_count": 35,
   "id": "3aa8d531-b5a0-4f6a-b906-497aee490485",
   "metadata": {},
   "outputs": [
    {
     "name": "stdout",
     "output_type": "stream",
     "text": [
      "CPU times: user 6 µs, sys: 1 µs, total: 7 µs\n",
      "Wall time: 9.78 µs\n"
     ]
    },
    {
     "data": {
      "text/plain": [
       "2037035976334486086268445688409378161051468393665936250636140449354381299763336706183397376"
      ]
     },
     "execution_count": 35,
     "metadata": {},
     "output_type": "execute_result"
    }
   ],
   "source": [
    "%%time\n",
    "power2(2, 300)"
   ]
  },
  {
   "cell_type": "markdown",
   "id": "9fdd7e47-1777-435c-bf45-071dfbfc4a5a",
   "metadata": {},
   "source": [
    "## Excel column title"
   ]
  },
  {
   "cell_type": "code",
   "execution_count": 40,
   "id": "d653138e-50b8-4bf5-a451-7848a493a863",
   "metadata": {},
   "outputs": [
    {
     "data": {
      "text/plain": [
       "['A',\n",
       " 'B',\n",
       " 'C',\n",
       " 'D',\n",
       " 'E',\n",
       " 'F',\n",
       " 'G',\n",
       " 'H',\n",
       " 'I',\n",
       " 'J',\n",
       " 'K',\n",
       " 'L',\n",
       " 'M',\n",
       " 'N',\n",
       " 'O',\n",
       " 'P',\n",
       " 'Q',\n",
       " 'R',\n",
       " 'S',\n",
       " 'T',\n",
       " 'U',\n",
       " 'V',\n",
       " 'W',\n",
       " 'X',\n",
       " 'Y',\n",
       " 'Z']"
      ]
     },
     "execution_count": 40,
     "metadata": {},
     "output_type": "execute_result"
    }
   ],
   "source": [
    "import string\n",
    "\n",
    "alphabet = list(string.ascii_uppercase)\n",
    "alphabet"
   ]
  },
  {
   "cell_type": "code",
   "execution_count": null,
   "id": "65140bfe-d181-454d-96bc-1a27954e60d5",
   "metadata": {},
   "outputs": [],
   "source": [
    "def excel_column_title(string):\n",
    "    \n",
    "    N = len(string)\n",
    "    \n",
    "    english_al\n",
    "    \n",
    "    \n",
    "    count = 0\n",
    "    while \n"
   ]
  },
  {
   "cell_type": "code",
   "execution_count": 38,
   "id": "9c8d1320-467c-41a3-9f2a-1e6296979d45",
   "metadata": {},
   "outputs": [],
   "source": [
    "s = 'BG'\n"
   ]
  },
  {
   "cell_type": "code",
   "execution_count": null,
   "id": "5cd11acc-2ce7-4e47-b443-1189acd9a246",
   "metadata": {},
   "outputs": [],
   "source": []
  }
 ],
 "metadata": {
  "kernelspec": {
   "display_name": "Python 3 (ipykernel)",
   "language": "python",
   "name": "python3"
  },
  "language_info": {
   "codemirror_mode": {
    "name": "ipython",
    "version": 3
   },
   "file_extension": ".py",
   "mimetype": "text/x-python",
   "name": "python",
   "nbconvert_exporter": "python",
   "pygments_lexer": "ipython3",
   "version": "3.9.13"
  }
 },
 "nbformat": 4,
 "nbformat_minor": 5
}

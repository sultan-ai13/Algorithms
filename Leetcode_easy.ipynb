{
 "cells": [
  {
   "cell_type": "markdown",
   "id": "e5c1f1d5-04b5-485a-85e6-83ae1cefb90e",
   "metadata": {},
   "source": [
    "# Array"
   ]
  },
  {
   "cell_type": "markdown",
   "id": "c7c6a391-0f12-45b6-a1a8-2e9ca0c84608",
   "metadata": {},
   "source": [
    "## Remove duplicates from Sorted Array"
   ]
  },
  {
   "cell_type": "code",
   "execution_count": 122,
   "id": "5988db49-1b2d-42a9-bfb4-88ae49f48ed2",
   "metadata": {},
   "outputs": [],
   "source": [
    "def move_to_end(array,ind):\n",
    "    \n",
    "    N = len(array)\n",
    "    \n",
    "    tmp = array[ind]\n",
    "    \n",
    "    for i in range(ind,N-1):\n",
    "        \n",
    "        array[i] = array[i+1]\n",
    "    \n",
    "    array[N-1] = tmp\n",
    "\n",
    "    return array\n",
    "\n",
    "def removeDuplicates(array):\n",
    "    \n",
    "    N = len(array)\n",
    "    \n",
    "    i = 0\n",
    "    while i < N-1:\n",
    "        \n",
    "        if array[i+1] == array[i]:\n",
    "            \n",
    "            # move array[i+1] to the end\n",
    "            move_to_end(array, i)\n",
    "            N -= 1 # this actually makes code better\n",
    "        else:\n",
    "            i += 1\n",
    "            \n",
    "    return array"
   ]
  },
  {
   "cell_type": "code",
   "execution_count": 123,
   "id": "b176158d-4355-49a3-86ef-64f06810469a",
   "metadata": {},
   "outputs": [
    {
     "data": {
      "text/plain": [
       "[1, 2, 1]"
      ]
     },
     "execution_count": 123,
     "metadata": {},
     "output_type": "execute_result"
    }
   ],
   "source": [
    "nums = [1,1,2]\n",
    "removeDuplicates(nums)"
   ]
  },
  {
   "cell_type": "code",
   "execution_count": 124,
   "id": "243bf8ed-ea8a-4f98-91ec-60757bf4de14",
   "metadata": {},
   "outputs": [
    {
     "data": {
      "text/plain": [
       "[0, 1, 2, 3, 4, 0, 1, 1, 2, 3]"
      ]
     },
     "execution_count": 124,
     "metadata": {},
     "output_type": "execute_result"
    }
   ],
   "source": [
    "nums = [0,0,1,1,1,2,2,3,3,4]\n",
    "removeDuplicates(nums)"
   ]
  },
  {
   "cell_type": "code",
   "execution_count": 139,
   "id": "9034b27d-8e42-4d14-b39e-2dacb34113a5",
   "metadata": {},
   "outputs": [],
   "source": [
    "def removeDuplicates(nums):\n",
    "    if not nums:\n",
    "        return 0\n",
    "    \n",
    "    i = 0\n",
    "    for j in range(1, len(nums)):\n",
    "        if nums[j] != nums[i]:\n",
    "            i += 1\n",
    "            nums[i] = nums[j]\n",
    "    \n",
    "    return i + 1, nums\n"
   ]
  },
  {
   "cell_type": "code",
   "execution_count": 140,
   "id": "1c0f2840-d300-4bb0-bfd9-e9e1ba74b561",
   "metadata": {},
   "outputs": [
    {
     "data": {
      "text/plain": [
       "(2, [1, 2, 2])"
      ]
     },
     "execution_count": 140,
     "metadata": {},
     "output_type": "execute_result"
    }
   ],
   "source": [
    "nums = [1,1,2]\n",
    "removeDuplicates(nums)"
   ]
  },
  {
   "cell_type": "code",
   "execution_count": 141,
   "id": "8c244f27-83f4-4ce6-bd33-b5ec799abdc7",
   "metadata": {},
   "outputs": [
    {
     "data": {
      "text/plain": [
       "(5, [0, 1, 2, 3, 4, 2, 2, 3, 3, 4])"
      ]
     },
     "execution_count": 141,
     "metadata": {},
     "output_type": "execute_result"
    }
   ],
   "source": [
    "nums = [0,0,1,1,1,2,2,3,3,4]\n",
    "removeDuplicates(nums)"
   ]
  },
  {
   "cell_type": "code",
   "execution_count": 1,
   "id": "42fa36b4-4612-490f-91e3-dba234cccf46",
   "metadata": {},
   "outputs": [],
   "source": [
    "def remove_duplicates(array):\n",
    "    # better to think of this problem as leaving only unqie numbers\n",
    "    \n",
    "    N = len(array)\n",
    "    \n",
    "    i = 0\n",
    "    for j in range(N):\n",
    "        if array[j] != array[i]:\n",
    "            i += 1\n",
    "            array[i] = array[j]\n",
    "            \n",
    "    return array"
   ]
  },
  {
   "cell_type": "code",
   "execution_count": 2,
   "id": "2bf7da69-dd97-41d3-9d2a-a5f030b3828a",
   "metadata": {},
   "outputs": [
    {
     "data": {
      "text/plain": [
       "[0, 1, 2, 3, 4, 2, 2, 3, 3, 4]"
      ]
     },
     "execution_count": 2,
     "metadata": {},
     "output_type": "execute_result"
    }
   ],
   "source": [
    "snums = [0,0,1,1,1,2,2,3,3,4]\n",
    "\n",
    "remove_duplicates(nums)"
   ]
  },
  {
   "cell_type": "markdown",
   "id": "bd13798d-6fff-4dc0-8214-cf738795898d",
   "metadata": {},
   "source": [
    "## Best Time to Buy and Sell Stock Is"
   ]
  },
  {
   "cell_type": "code",
   "execution_count": null,
   "id": "f7b9ef81-3d98-44ae-994f-9b3267095aec",
   "metadata": {},
   "outputs": [],
   "source": [
    "def buy_sell(array):\n",
    "    \n",
    "    buy "
   ]
  },
  {
   "cell_type": "code",
   "execution_count": null,
   "id": "e3e2c0ed-0f78-40e5-b57c-21bb58bcdedb",
   "metadata": {},
   "outputs": [],
   "source": [
    "prices = [7,1,5,3,6,4]\n",
    "\n",
    "profit = 0\n",
    "\n"
   ]
  },
  {
   "cell_type": "markdown",
   "id": "cf1c2258-9bb2-48ad-9b6b-7aecd865ac00",
   "metadata": {},
   "source": [
    "## Rotate Array"
   ]
  },
  {
   "cell_type": "code",
   "execution_count": 150,
   "id": "64b5c33d-8239-462c-812a-760d6c9863dc",
   "metadata": {},
   "outputs": [],
   "source": [
    "def rotate_one_left(array):\n",
    "    \n",
    "    N = len(array)\n",
    "    \n",
    "    tmp = array[0]\n",
    "    \n",
    "    for i in range(0,N-1):\n",
    "        array[i] = array[i+1]\n",
    "    \n",
    "    array[N-1] = tmp\n",
    "    \n",
    "    return(array)\n",
    "\n",
    "def rotate_k_left(array, k):\n",
    "    \n",
    "    for i in range(k):\n",
    "        rotate_one_left(array)\n",
    "        \n",
    "    return array"
   ]
  },
  {
   "cell_type": "code",
   "execution_count": 151,
   "id": "badadee2-6baf-4533-bf34-b1e223e95c5e",
   "metadata": {},
   "outputs": [
    {
     "data": {
      "text/plain": [
       "[2, 3, 4, 5, 6, 7, 1]"
      ]
     },
     "execution_count": 151,
     "metadata": {},
     "output_type": "execute_result"
    }
   ],
   "source": [
    "nums = [1,2,3,4,5,6,7]\n",
    "rotate_one_left(nums)"
   ]
  },
  {
   "cell_type": "code",
   "execution_count": 152,
   "id": "a79d53ea-38df-4567-b359-d25d6792d4de",
   "metadata": {},
   "outputs": [
    {
     "data": {
      "text/plain": [
       "[5, 6, 7, 1, 2, 3, 4]"
      ]
     },
     "execution_count": 152,
     "metadata": {},
     "output_type": "execute_result"
    }
   ],
   "source": [
    "nums = [1,2,3,4,5,6,7]\n",
    "rotate_k_left(nums, 3)"
   ]
  },
  {
   "cell_type": "code",
   "execution_count": 209,
   "id": "dcbc2f2f-b439-4044-b99e-1471c1ec1ea0",
   "metadata": {},
   "outputs": [],
   "source": [
    "def rotate_one_right(array):\n",
    "    N = len(array)\n",
    "    \n",
    "    tmp = array[N-1]\n",
    "    \n",
    "    for i in reversed(range(0, N)):\n",
    "        array[i] = array[i-1]\n",
    "        \n",
    "    array[0] = tmp\n",
    "    \n",
    "    return array"
   ]
  },
  {
   "cell_type": "code",
   "execution_count": 210,
   "id": "3d3151f9-dde8-462e-9c65-192a9ce93010",
   "metadata": {},
   "outputs": [
    {
     "data": {
      "text/plain": [
       "[7, 1, 2, 3, 4, 5, 6]"
      ]
     },
     "execution_count": 210,
     "metadata": {},
     "output_type": "execute_result"
    }
   ],
   "source": [
    "nums = [1,2,3,4,5,6,7]\n",
    "rotate_one_right(nums)"
   ]
  },
  {
   "cell_type": "markdown",
   "id": "702b7d0c-e026-4e03-9152-4f8066091810",
   "metadata": {},
   "source": [
    "## Contains Duplicate"
   ]
  },
  {
   "cell_type": "code",
   "execution_count": 272,
   "id": "f690f346-f934-4879-b716-6aa9fdf5a0d2",
   "metadata": {},
   "outputs": [],
   "source": [
    "def contains_duplicate(array):\n",
    "    \n",
    "    counts = {}\n",
    "    \n",
    "    for i in range(len(array)):\n",
    "        \n",
    "        counts[array[i]] = counts.get(array[i],0) + 1\n",
    "    \n",
    "    for key in counts.keys():\n",
    "        if counts[key] > 1:\n",
    "            return True\n",
    "\n",
    "    return False"
   ]
  },
  {
   "cell_type": "code",
   "execution_count": 273,
   "id": "81388518-2e15-4524-89c3-2192f02bf07a",
   "metadata": {},
   "outputs": [
    {
     "data": {
      "text/plain": [
       "True"
      ]
     },
     "execution_count": 273,
     "metadata": {},
     "output_type": "execute_result"
    }
   ],
   "source": [
    "nums = [1,2,3,1]\n",
    "contains_duplicate(nums)"
   ]
  },
  {
   "cell_type": "code",
   "execution_count": 274,
   "id": "aecc910a-a360-494c-9436-418b4d9aa6fe",
   "metadata": {},
   "outputs": [
    {
     "data": {
      "text/plain": [
       "True"
      ]
     },
     "execution_count": 274,
     "metadata": {},
     "output_type": "execute_result"
    }
   ],
   "source": [
    "nums = [1,1,1,3,3,4,3,2,4,2]\n",
    "contains_duplicate(nums)"
   ]
  },
  {
   "cell_type": "code",
   "execution_count": 275,
   "id": "cefa0c56-9999-4a68-8b21-d3caa1d25a38",
   "metadata": {},
   "outputs": [
    {
     "data": {
      "text/plain": [
       "False"
      ]
     },
     "execution_count": 275,
     "metadata": {},
     "output_type": "execute_result"
    }
   ],
   "source": [
    "nums = [1,2,3,4]\n",
    "contains_duplicate(nums)"
   ]
  },
  {
   "cell_type": "code",
   "execution_count": 277,
   "id": "fef75bd2-bb03-4c1a-b0e7-e8d0622ddcfb",
   "metadata": {},
   "outputs": [],
   "source": [
    "def contains_duplicate(array):\n",
    "    \n",
    "    return len(set(array)) == len(array)"
   ]
  },
  {
   "cell_type": "code",
   "execution_count": 278,
   "id": "f145d56e-8713-4617-bd19-af32793c1a0e",
   "metadata": {},
   "outputs": [
    {
     "data": {
      "text/plain": [
       "False"
      ]
     },
     "execution_count": 278,
     "metadata": {},
     "output_type": "execute_result"
    }
   ],
   "source": [
    "nums = [1,2,3,1]\n",
    "contains_duplicate(nums)"
   ]
  },
  {
   "cell_type": "code",
   "execution_count": 279,
   "id": "f157c4a7-ee8d-4e1a-b50a-fafc80e62db8",
   "metadata": {},
   "outputs": [
    {
     "data": {
      "text/plain": [
       "False"
      ]
     },
     "execution_count": 279,
     "metadata": {},
     "output_type": "execute_result"
    }
   ],
   "source": [
    "nums = [1,1,1,3,3,4,3,2,4,2]\n",
    "contains_duplicate(nums)"
   ]
  },
  {
   "cell_type": "code",
   "execution_count": 280,
   "id": "c127c68f-8c6b-444d-961c-1fcb582e23ae",
   "metadata": {},
   "outputs": [
    {
     "data": {
      "text/plain": [
       "True"
      ]
     },
     "execution_count": 280,
     "metadata": {},
     "output_type": "execute_result"
    }
   ],
   "source": [
    "nums = [1,2,3,4]\n",
    "contains_duplicate(nums)"
   ]
  },
  {
   "cell_type": "markdown",
   "id": "fde28b11-58f1-4aa2-8779-d9c8f4f6a37a",
   "metadata": {},
   "source": [
    "## Single Number"
   ]
  },
  {
   "cell_type": "code",
   "execution_count": 16,
   "id": "9508f6c0-20c3-4658-80ce-c41c4b8bfc54",
   "metadata": {},
   "outputs": [],
   "source": [
    "def single_number(nums):\n",
    "    result = 0\n",
    "    for num in nums:\n",
    "        result = result^num\n",
    "        print(result)\n",
    "    return result\n"
   ]
  },
  {
   "cell_type": "code",
   "execution_count": 17,
   "id": "fc618b0c-7e6c-4e37-b0ac-7e2b970f34d3",
   "metadata": {},
   "outputs": [
    {
     "name": "stdout",
     "output_type": "stream",
     "text": [
      "4\n",
      "5\n",
      "7\n",
      "6\n",
      "4\n"
     ]
    },
    {
     "data": {
      "text/plain": [
       "4"
      ]
     },
     "execution_count": 17,
     "metadata": {},
     "output_type": "execute_result"
    }
   ],
   "source": [
    "nums = [4,1,2,1,2]\n",
    "single_number(nums)"
   ]
  },
  {
   "cell_type": "code",
   "execution_count": null,
   "id": "85112b5d-fb41-4367-b3b7-4cb9a9dd005c",
   "metadata": {},
   "outputs": [],
   "source": [
    "def single_number(array):\n",
    "    \n",
    "    N = len(array)\n",
    "    \n",
    "    count = {}\n",
    "    \n",
    "    for i in array:\n",
    "        count[i] = count.get(i,1)"
   ]
  },
  {
   "cell_type": "code",
   "execution_count": 14,
   "id": "97b38871-ba0c-4b0e-8cf5-875f08362ab9",
   "metadata": {},
   "outputs": [
    {
     "data": {
      "text/plain": [
       "{1, 2, 3, 4}"
      ]
     },
     "execution_count": 14,
     "metadata": {},
     "output_type": "execute_result"
    }
   ],
   "source": [
    "s = {1,2,3,4,5,5}\n",
    "s.remove(5)\n",
    "s"
   ]
  },
  {
   "cell_type": "code",
   "execution_count": 15,
   "id": "f8871267-34dd-4312-980b-0e5fa24209c9",
   "metadata": {},
   "outputs": [
    {
     "data": {
      "text/plain": [
       "0"
      ]
     },
     "execution_count": 15,
     "metadata": {},
     "output_type": "execute_result"
    }
   ],
   "source": [
    "5^5"
   ]
  },
  {
   "cell_type": "code",
   "execution_count": 18,
   "id": "f83e05b1-46e9-41b7-b8bf-b189b50472c1",
   "metadata": {},
   "outputs": [
    {
     "data": {
      "text/plain": [
       "4294967296"
      ]
     },
     "execution_count": 18,
     "metadata": {},
     "output_type": "execute_result"
    }
   ],
   "source": [
    "2**32"
   ]
  },
  {
   "cell_type": "markdown",
   "id": "af52a79d-f530-43ff-97c3-bef0f207e51d",
   "metadata": {
    "toc-hr-collapsed": true
   },
   "source": [
    "## Move zeroes"
   ]
  },
  {
   "cell_type": "code",
   "execution_count": 296,
   "id": "dabdc554-e518-4e33-8b8a-6a329a24a0a9",
   "metadata": {},
   "outputs": [],
   "source": [
    "def move2end(array, k):\n",
    "    \"\"\"\n",
    "    moves k element to the end in-place\n",
    "    \"\"\"\n",
    "    N = len(array)\n",
    "    \n",
    "    tmp = array[k]\n",
    "    for i in range(k, N-1):\n",
    "        \n",
    "        array[i] = array[i+1]\n",
    "    \n",
    "    array[N-1] = tmp\n",
    "    \n",
    "    return array    \n",
    "\n",
    "def move_zeroes(array):\n",
    "    \n",
    "    N = len(array)\n",
    "    \n",
    "    for i in range(N):\n",
    "        \n",
    "        if array[i] == 0:\n",
    "            move2end(array,i)\n",
    "            \n",
    "    return array"
   ]
  },
  {
   "cell_type": "code",
   "execution_count": 297,
   "id": "de2e95aa-dd2d-4a3b-a298-410a99f462ce",
   "metadata": {},
   "outputs": [
    {
     "data": {
      "text/plain": [
       "[1, 3, 12, 0, 0]"
      ]
     },
     "execution_count": 297,
     "metadata": {},
     "output_type": "execute_result"
    }
   ],
   "source": [
    "nums = [0,1,0,3,12]\n",
    "move_zeroes(nums)"
   ]
  },
  {
   "cell_type": "code",
   "execution_count": 303,
   "id": "7dbeb435-842d-4a0b-8113-5f6c6928aa99",
   "metadata": {},
   "outputs": [],
   "source": [
    "def move_zeroes(nums):\n",
    "    i = 0  # pointer to the first zero\n",
    "    j = 0  # pointer to the first non-zero after i\n",
    "    \n",
    "    while j < len(nums):\n",
    "        # if the element at index j is non-zero, swap it with the element at index i\n",
    "        if nums[j] != 0:\n",
    "            nums[i], nums[j] = nums[j], nums[i]\n",
    "            i += 1  # increment the pointer to the first zero\n",
    "        j += 1  # increment the pointer to the first non-zero after i\n",
    "        print(nums)\n",
    "    return nums"
   ]
  },
  {
   "cell_type": "code",
   "execution_count": 304,
   "id": "0b78b8bc-1723-4498-ae85-4048f2562177",
   "metadata": {},
   "outputs": [
    {
     "name": "stdout",
     "output_type": "stream",
     "text": [
      "[0, 1, 0, 3, 12]\n",
      "[1, 0, 0, 3, 12]\n",
      "[1, 0, 0, 3, 12]\n",
      "[1, 3, 0, 0, 12]\n",
      "[1, 3, 12, 0, 0]\n"
     ]
    },
    {
     "data": {
      "text/plain": [
       "[1, 3, 12, 0, 0]"
      ]
     },
     "execution_count": 304,
     "metadata": {},
     "output_type": "execute_result"
    }
   ],
   "source": [
    "nums = [0,1,0,3,12]\n",
    "move_zeroes(nums)"
   ]
  },
  {
   "cell_type": "markdown",
   "id": "efa8887f-2125-4c3e-bc54-be5d89386756",
   "metadata": {},
   "source": [
    "## Two sums"
   ]
  },
  {
   "cell_type": "code",
   "execution_count": 2,
   "id": "77f6b751-d171-475e-94d3-7c701e2ed0e7",
   "metadata": {},
   "outputs": [],
   "source": [
    "def two_sums(nums, target):\n",
    "    \n",
    "    N = len(nums)\n",
    "    \n",
    "    count = {}\n",
    "    \n",
    "    for i, num in enumerate(nums):\n",
    "        \n",
    "        diff = target - num\n",
    "        \n",
    "        if num in count.keys():\n",
    "            return count[num], i\n",
    "        \n",
    "        if diff > 0:\n",
    "            count[diff] = i"
   ]
  },
  {
   "cell_type": "code",
   "execution_count": 3,
   "id": "5f36e838-3aef-4cab-b4be-f27645b195b1",
   "metadata": {},
   "outputs": [
    {
     "data": {
      "text/plain": [
       "(0, 1)"
      ]
     },
     "execution_count": 3,
     "metadata": {},
     "output_type": "execute_result"
    }
   ],
   "source": [
    "nums = [2,7,11,15]\n",
    "target = 9\n",
    "two_sums(nums,target)"
   ]
  },
  {
   "cell_type": "code",
   "execution_count": 4,
   "id": "5c893a62-eb97-4258-82ec-b40ee2f8df9e",
   "metadata": {},
   "outputs": [
    {
     "data": {
      "text/plain": [
       "(1, 2)"
      ]
     },
     "execution_count": 4,
     "metadata": {},
     "output_type": "execute_result"
    }
   ],
   "source": [
    "nums = [3,2,4]\n",
    "target = 6\n",
    "two_sums(nums,target)"
   ]
  },
  {
   "cell_type": "code",
   "execution_count": 5,
   "id": "7328062a-e6ad-47e8-8ba3-1bb5dd7eee5a",
   "metadata": {},
   "outputs": [
    {
     "data": {
      "text/plain": [
       "(0, 1)"
      ]
     },
     "execution_count": 5,
     "metadata": {},
     "output_type": "execute_result"
    }
   ],
   "source": [
    "nums = [3,3]\n",
    "target = 6\n",
    "two_sums(nums, target)"
   ]
  },
  {
   "cell_type": "markdown",
   "id": "fb3ffc6c-9f04-4176-b2cb-26d46c977da4",
   "metadata": {
    "tags": []
   },
   "source": [
    "# String"
   ]
  },
  {
   "cell_type": "markdown",
   "id": "cb85835c-d5f0-4ddc-94fe-c403d90bf141",
   "metadata": {},
   "source": [
    "## Reverse String"
   ]
  },
  {
   "cell_type": "code",
   "execution_count": 8,
   "id": "0563b495-f492-40bc-a6a1-f4d4c407c4c7",
   "metadata": {},
   "outputs": [],
   "source": [
    "def reverse_string(array):\n",
    "    \n",
    "    N = len(array)\n",
    "    \n",
    "    for i in range(0,int(N/2)):\n",
    "        \n",
    "        array[i], array[N-1-i] = array[N-1-i], array[i]\n",
    "    \n",
    "    # just for easy visualization\n",
    "    print(array)"
   ]
  },
  {
   "cell_type": "code",
   "execution_count": 12,
   "id": "73af1bee-44a5-44b9-a9a3-b937b4ea74b0",
   "metadata": {},
   "outputs": [
    {
     "name": "stdout",
     "output_type": "stream",
     "text": [
      "['o', 'l', 'l', 'e', 'h']\n"
     ]
    }
   ],
   "source": [
    "s = [\"h\",\"e\",\"l\",\"l\",\"o\"]\n",
    "reverse_string(s)"
   ]
  },
  {
   "cell_type": "code",
   "execution_count": 13,
   "id": "ad57e870-0143-43c3-9243-1f5539138cb8",
   "metadata": {},
   "outputs": [
    {
     "name": "stdout",
     "output_type": "stream",
     "text": [
      "['p', 'a', 'n', 'n', 'a', 'H']\n"
     ]
    }
   ],
   "source": [
    "s = [\"H\",\"a\",\"n\",\"n\",\"a\",\"p\"]\n",
    "reverse_string(s)"
   ]
  },
  {
   "cell_type": "markdown",
   "id": "e4c68a69-c468-4b14-a0c7-fc1b3ed18ad4",
   "metadata": {},
   "source": [
    "## Reverse Integer"
   ]
  },
  {
   "cell_type": "code",
   "execution_count": 38,
   "id": "f489a995-53cd-416b-bae5-4e7e36d7e6e2",
   "metadata": {},
   "outputs": [],
   "source": [
    "def reverse_integer(num):\n",
    "    \n",
    "    num_str = str(num)\n",
    "    \n",
    "    i = 0\n",
    "    \n",
    "    # check for sign: positive (False) or negative (False)\n",
    "    if num_str[i] == '-':\n",
    "        check_neg = True\n",
    "        i += 1\n",
    "    else:\n",
    "        check_neg = False\n",
    "    \n",
    "    # check for leading zeros\n",
    "    while i < len(num_str):\n",
    "        if num_str[i] == 0:\n",
    "            i += 1\n",
    "        else:\n",
    "            break\n",
    "            \n",
    "    # trim string\n",
    "    final_str = num_str[i:]\n",
    "    \n",
    "    # create integer\n",
    "    final_num = int(final_str[::-1])\n",
    "    \n",
    "    if check_neg == True:\n",
    "        final_num = final_num * (-1)\n",
    "    \n",
    "    return final_num\n",
    "    "
   ]
  },
  {
   "cell_type": "code",
   "execution_count": 39,
   "id": "b8ab5f45-2faf-4a65-bc7c-68dd73a3ee50",
   "metadata": {},
   "outputs": [
    {
     "data": {
      "text/plain": [
       "321"
      ]
     },
     "execution_count": 39,
     "metadata": {},
     "output_type": "execute_result"
    }
   ],
   "source": [
    "x = 123\n",
    "reverse_integer(x)"
   ]
  },
  {
   "cell_type": "code",
   "execution_count": 40,
   "id": "8ea7d050-6e2f-40ba-9a78-51b010dea4b8",
   "metadata": {},
   "outputs": [
    {
     "data": {
      "text/plain": [
       "-321"
      ]
     },
     "execution_count": 40,
     "metadata": {},
     "output_type": "execute_result"
    }
   ],
   "source": [
    "x = -123\n",
    "reverse_integer(x)"
   ]
  },
  {
   "cell_type": "code",
   "execution_count": 41,
   "id": "e9e14294-0035-4eb8-97b6-ae8ac385dfa5",
   "metadata": {},
   "outputs": [
    {
     "data": {
      "text/plain": [
       "21"
      ]
     },
     "execution_count": 41,
     "metadata": {},
     "output_type": "execute_result"
    }
   ],
   "source": [
    "x = 120\n",
    "reverse_integer(x)"
   ]
  },
  {
   "cell_type": "code",
   "execution_count": 43,
   "id": "a5099906-68bc-4929-a20a-ec2b1d2e0786",
   "metadata": {},
   "outputs": [],
   "source": [
    "def reverse(x):\n",
    "    # Check if x is negative\n",
    "    negative = False\n",
    "    if x < 0:\n",
    "        negative = True\n",
    "        x = -x\n",
    "    \n",
    "    # Reverse the digits of x\n",
    "    rev = 0\n",
    "    while x > 0:\n",
    "        rev = rev * 10 + x % 10\n",
    "        x //= 10\n",
    "    \n",
    "    # Check if the reversed number is within the 32-bit integer range\n",
    "    if rev > 2**31-1:\n",
    "        return 0\n",
    "    \n",
    "    # Return the reversed number with the original sign\n",
    "    return -rev if negative else rev\n"
   ]
  },
  {
   "cell_type": "code",
   "execution_count": 44,
   "id": "54340b69-9803-4bf8-a16b-ff593453de97",
   "metadata": {},
   "outputs": [
    {
     "data": {
      "text/plain": [
       "321"
      ]
     },
     "execution_count": 44,
     "metadata": {},
     "output_type": "execute_result"
    }
   ],
   "source": [
    "x = 123\n",
    "reverse(x)"
   ]
  },
  {
   "cell_type": "code",
   "execution_count": 45,
   "id": "226e0539-0dc6-4a00-9602-ac5c8ef146a8",
   "metadata": {},
   "outputs": [
    {
     "data": {
      "text/plain": [
       "-321"
      ]
     },
     "execution_count": 45,
     "metadata": {},
     "output_type": "execute_result"
    }
   ],
   "source": [
    "x = -123\n",
    "reverse(x)"
   ]
  },
  {
   "cell_type": "code",
   "execution_count": 46,
   "id": "8691cd54-43e8-4fac-972c-055fcd1d4666",
   "metadata": {},
   "outputs": [
    {
     "data": {
      "text/plain": [
       "21"
      ]
     },
     "execution_count": 46,
     "metadata": {},
     "output_type": "execute_result"
    }
   ],
   "source": [
    "x = 120\n",
    "reverse(x)"
   ]
  },
  {
   "cell_type": "code",
   "execution_count": 51,
   "id": "d884dd01-5a4a-43f9-928f-637af373c51e",
   "metadata": {},
   "outputs": [
    {
     "data": {
      "text/plain": [
       "1"
      ]
     },
     "execution_count": 51,
     "metadata": {},
     "output_type": "execute_result"
    }
   ],
   "source": [
    "3//2"
   ]
  },
  {
   "cell_type": "code",
   "execution_count": 52,
   "id": "94a9a8d7-397a-4b8a-a913-12a27b9c43e7",
   "metadata": {},
   "outputs": [
    {
     "data": {
      "text/plain": [
       "12"
      ]
     },
     "execution_count": 52,
     "metadata": {},
     "output_type": "execute_result"
    }
   ],
   "source": [
    "123 //10"
   ]
  },
  {
   "cell_type": "markdown",
   "id": "53350896-1a6d-46ad-9595-380afc686bbd",
   "metadata": {},
   "source": [
    "## First Unique Character in a String"
   ]
  },
  {
   "cell_type": "code",
   "execution_count": 70,
   "id": "f5a397bd-d1c4-4acc-b576-8b9f5856a2b8",
   "metadata": {},
   "outputs": [],
   "source": [
    "def unique_char(string):\n",
    "    \n",
    "    N = len(string)\n",
    "    \n",
    "    index_reps = []\n",
    "    \n",
    "    for i in range(N):\n",
    "        \n",
    "        char = string[i]\n",
    "        unique = True\n",
    "        \n",
    "        \n",
    "        for j in range(0,i-1):\n",
    "            \n",
    "            if string[j] == string[i]:\n",
    "                unique = False\n",
    "            \n",
    "        for j in range(i+1,N):\n",
    "            \n",
    "            if string[j] == string[i]:\n",
    "                unique = False\n",
    "                \n",
    "                \n",
    "        if unique == True:\n",
    "            return i\n",
    "        \n",
    "    return -1\n",
    "                \n",
    "        "
   ]
  },
  {
   "cell_type": "code",
   "execution_count": 71,
   "id": "465a69e8-d617-4501-9d8f-34d40c75481e",
   "metadata": {
    "jupyter": {
     "source_hidden": true
    },
    "tags": []
   },
   "outputs": [
    {
     "data": {
      "text/plain": [
       "1"
      ]
     },
     "execution_count": 71,
     "metadata": {},
     "output_type": "execute_result"
    }
   ],
   "source": [
    "s = 'ABACD'\n",
    "unique_char(s)"
   ]
  },
  {
   "cell_type": "code",
   "execution_count": 72,
   "id": "dfac1aa3-428c-472f-865b-ed44f2e61eab",
   "metadata": {},
   "outputs": [
    {
     "data": {
      "text/plain": [
       "0"
      ]
     },
     "execution_count": 72,
     "metadata": {},
     "output_type": "execute_result"
    }
   ],
   "source": [
    "s = \"leetcode\"\n",
    "unique_char(s)"
   ]
  },
  {
   "cell_type": "code",
   "execution_count": 73,
   "id": "3cc48b3b-4aaf-4e57-9c52-473d5dd730ed",
   "metadata": {
    "tags": []
   },
   "outputs": [
    {
     "data": {
      "text/plain": [
       "2"
      ]
     },
     "execution_count": 73,
     "metadata": {},
     "output_type": "execute_result"
    }
   ],
   "source": [
    "s = \"loveleetcode\"\n",
    "unique_char(s)"
   ]
  },
  {
   "cell_type": "code",
   "execution_count": 74,
   "id": "6d680614-9cf7-486c-99e3-110e214ec40b",
   "metadata": {
    "tags": []
   },
   "outputs": [
    {
     "data": {
      "text/plain": [
       "1"
      ]
     },
     "execution_count": 74,
     "metadata": {},
     "output_type": "execute_result"
    }
   ],
   "source": [
    "s = 'aabb'\n",
    "unique_char(s)"
   ]
  },
  {
   "cell_type": "code",
   "execution_count": 103,
   "id": "5f92d657-1fd6-4404-932c-1c6aa4a52e6a",
   "metadata": {},
   "outputs": [],
   "source": [
    "# time complexity O(n^2)\n",
    "# space complexity O(1)\n",
    "def unique_char2(string):\n",
    "    \n",
    "    N = len(string)\n",
    "    \n",
    "    index_reps = []\n",
    "    \n",
    "    for i, char in enumerate(string):\n",
    "        \n",
    "        # count number of occurences\n",
    "        no_occur = 0\n",
    "        \n",
    "        for char_ in string:\n",
    "             \n",
    "            if char == char_:\n",
    "                no_occur += 1\n",
    "        \n",
    "        # return i\n",
    "        if no_occur == 1:\n",
    "            return i\n",
    "        \n",
    "    return -1"
   ]
  },
  {
   "cell_type": "code",
   "execution_count": 104,
   "id": "eb089401-9319-4851-a76e-e02f30661fce",
   "metadata": {
    "jupyter": {
     "source_hidden": true
    },
    "tags": []
   },
   "outputs": [
    {
     "data": {
      "text/plain": [
       "1"
      ]
     },
     "execution_count": 104,
     "metadata": {},
     "output_type": "execute_result"
    }
   ],
   "source": [
    "s = 'ABACD'\n",
    "unique_char2(s)"
   ]
  },
  {
   "cell_type": "code",
   "execution_count": 105,
   "id": "998f11f7-6eec-4ed3-a8df-30e1b174d922",
   "metadata": {},
   "outputs": [
    {
     "data": {
      "text/plain": [
       "0"
      ]
     },
     "execution_count": 105,
     "metadata": {},
     "output_type": "execute_result"
    }
   ],
   "source": [
    "s = \"leetcode\"\n",
    "unique_char2(s)"
   ]
  },
  {
   "cell_type": "code",
   "execution_count": 106,
   "id": "865b9529-835b-4ede-9a01-f4595210a8a6",
   "metadata": {
    "tags": []
   },
   "outputs": [
    {
     "data": {
      "text/plain": [
       "2"
      ]
     },
     "execution_count": 106,
     "metadata": {},
     "output_type": "execute_result"
    }
   ],
   "source": [
    "s = \"loveleetcode\"\n",
    "unique_char2(s)"
   ]
  },
  {
   "cell_type": "code",
   "execution_count": 107,
   "id": "4e5c544f-b479-4ce3-a387-743f60b1ae72",
   "metadata": {
    "tags": []
   },
   "outputs": [
    {
     "data": {
      "text/plain": [
       "-1"
      ]
     },
     "execution_count": 107,
     "metadata": {},
     "output_type": "execute_result"
    }
   ],
   "source": [
    "s = 'aabb'\n",
    "unique_char2(s)"
   ]
  },
  {
   "cell_type": "code",
   "execution_count": 118,
   "id": "34348ce3-649c-4834-bc8f-22a18029e85d",
   "metadata": {},
   "outputs": [],
   "source": [
    "def unique_char3(s):\n",
    "    \"\"\"\n",
    "    Returns the index of the first non-repeating character in the given string s, or -1 if none exists.\n",
    "    \"\"\"\n",
    "    # Create a dictionary to keep track of character counts\n",
    "    char_counts = {}\n",
    "    for c in s:\n",
    "        # get() method returns a default value if the key is missing\n",
    "        char_counts[c] = char_counts.get(c,0) + 1\n",
    "        \n",
    "    print(char_counts)\n",
    "    # Iterate through the string and find the first character with count 1\n",
    "    for i, c in enumerate(s):\n",
    "        if char_counts[c] == 1:\n",
    "            return i\n",
    "    \n",
    "    # If we get here, no unique character was found\n",
    "    return -1\n",
    "   "
   ]
  },
  {
   "cell_type": "code",
   "execution_count": 120,
   "id": "ce89235e-15eb-4185-9c7d-066c1c1aed09",
   "metadata": {},
   "outputs": [],
   "source": [
    "dicto = {\"A\":None}"
   ]
  },
  {
   "cell_type": "code",
   "execution_count": 126,
   "id": "cbe79b1b-c680-40b9-bfe0-7aa12bcdf832",
   "metadata": {},
   "outputs": [
    {
     "name": "stdout",
     "output_type": "stream",
     "text": [
      "0\n"
     ]
    }
   ],
   "source": [
    "print(dicto.get(\"B\",0))"
   ]
  },
  {
   "cell_type": "code",
   "execution_count": 119,
   "id": "f2795378-d49e-4ab7-93c3-f99a97c682c6",
   "metadata": {
    "tags": []
   },
   "outputs": [
    {
     "name": "stdout",
     "output_type": "stream",
     "text": [
      "{'A': 2, 'B': 1, 'C': 1, 'D': 1}\n"
     ]
    },
    {
     "data": {
      "text/plain": [
       "1"
      ]
     },
     "execution_count": 119,
     "metadata": {},
     "output_type": "execute_result"
    }
   ],
   "source": [
    "s = 'ABACD'\n",
    "unique_char3(s)"
   ]
  },
  {
   "cell_type": "code",
   "execution_count": 111,
   "id": "6a6cb6d7-3fec-4fc5-b132-37a6cc420313",
   "metadata": {},
   "outputs": [
    {
     "name": "stdout",
     "output_type": "stream",
     "text": [
      "{'l': 1, 'e': 3, 't': 1, 'c': 1, 'o': 1, 'd': 1}\n"
     ]
    },
    {
     "data": {
      "text/plain": [
       "0"
      ]
     },
     "execution_count": 111,
     "metadata": {},
     "output_type": "execute_result"
    }
   ],
   "source": [
    "s = \"leetcode\"\n",
    "unique_char3(s)"
   ]
  },
  {
   "cell_type": "code",
   "execution_count": 112,
   "id": "a031161b-f468-41b6-bba2-9840b61faf47",
   "metadata": {
    "tags": []
   },
   "outputs": [
    {
     "name": "stdout",
     "output_type": "stream",
     "text": [
      "{'l': 2, 'o': 2, 'v': 1, 'e': 4, 't': 1, 'c': 1, 'd': 1}\n"
     ]
    },
    {
     "data": {
      "text/plain": [
       "2"
      ]
     },
     "execution_count": 112,
     "metadata": {},
     "output_type": "execute_result"
    }
   ],
   "source": [
    "s = \"loveleetcode\"\n",
    "unique_char3(s)"
   ]
  },
  {
   "cell_type": "code",
   "execution_count": 113,
   "id": "5c152815-900a-4b2a-b616-bedd72c1fced",
   "metadata": {
    "tags": []
   },
   "outputs": [
    {
     "name": "stdout",
     "output_type": "stream",
     "text": [
      "{'a': 2, 'b': 2}\n"
     ]
    },
    {
     "data": {
      "text/plain": [
       "-1"
      ]
     },
     "execution_count": 113,
     "metadata": {},
     "output_type": "execute_result"
    }
   ],
   "source": [
    "s = 'aabb'\n",
    "unique_char3(s)"
   ]
  },
  {
   "cell_type": "markdown",
   "id": "6ffcd01f-d80f-4d2d-83a4-dca71828bb64",
   "metadata": {},
   "source": [
    "## Valid anagram"
   ]
  },
  {
   "cell_type": "code",
   "execution_count": 127,
   "id": "3c465a79-39f5-4c86-8c35-5d9f14756a95",
   "metadata": {},
   "outputs": [],
   "source": [
    "def valid_annagram(word1, word2):\n",
    "    \n",
    "    dict1 = {}\n",
    "    \n",
    "    for char in word1:\n",
    "        \n",
    "        dict1[char] = dict1.get(char, 0) + 1\n",
    "        \n",
    "    dict2 = {}\n",
    "    \n",
    "    for char in word2:\n",
    "        \n",
    "        dict2[char] = dict2.get(char,0) + 1\n",
    "        \n",
    "    if dict1 == dict2:\n",
    "        return True\n",
    "    else:\n",
    "        return False"
   ]
  },
  {
   "cell_type": "code",
   "execution_count": 1,
   "id": "15533923-695e-485b-9f45-d4b0c144cd3c",
   "metadata": {},
   "outputs": [
    {
     "ename": "NameError",
     "evalue": "name 'valid_annagram' is not defined",
     "output_type": "error",
     "traceback": [
      "\u001b[1;31m---------------------------------------------------------------------------\u001b[0m",
      "\u001b[1;31mNameError\u001b[0m                                 Traceback (most recent call last)",
      "Input \u001b[1;32mIn [1]\u001b[0m, in \u001b[0;36m<cell line: 3>\u001b[1;34m()\u001b[0m\n\u001b[0;32m      1\u001b[0m s \u001b[38;5;241m=\u001b[39m \u001b[38;5;124m\"\u001b[39m\u001b[38;5;124managram\u001b[39m\u001b[38;5;124m\"\u001b[39m\n\u001b[0;32m      2\u001b[0m t \u001b[38;5;241m=\u001b[39m \u001b[38;5;124m\"\u001b[39m\u001b[38;5;124mnagaram\u001b[39m\u001b[38;5;124m\"\u001b[39m\n\u001b[1;32m----> 3\u001b[0m \u001b[43mvalid_annagram\u001b[49m(s, t)\n",
      "\u001b[1;31mNameError\u001b[0m: name 'valid_annagram' is not defined"
     ]
    }
   ],
   "source": [
    "s = \"anagram\"\n",
    "t = \"nagaram\"\n",
    "valid_annagram(s, t)"
   ]
  },
  {
   "cell_type": "code",
   "execution_count": 130,
   "id": "e81c14f2-ba8b-4221-bf96-417775dd8c1d",
   "metadata": {},
   "outputs": [
    {
     "data": {
      "text/plain": [
       "False"
      ]
     },
     "execution_count": 130,
     "metadata": {},
     "output_type": "execute_result"
    }
   ],
   "source": [
    "s = \"rat\"\n",
    "t = \"car\"\n",
    "valid_annagram(s,t)"
   ]
  },
  {
   "cell_type": "markdown",
   "id": "b7b79125-9813-4d94-8bdd-0812f9291733",
   "metadata": {},
   "source": [
    "## Valid Palindrome"
   ]
  },
  {
   "cell_type": "code",
   "execution_count": 8,
   "id": "e43ccbfd-b6b1-4efe-be36-d96e55016ea1",
   "metadata": {},
   "outputs": [],
   "source": [
    "def valid_palindrome(string):\n",
    "    \n",
    "    string = string.lower()\n",
    "    \n",
    "    new_string = \"\"\n",
    "    \n",
    "    for char in string:\n",
    "        if char.isalnum():\n",
    "            new_string += char\n",
    "    \n",
    "    print(new_string)\n",
    "    \n",
    "    if new_string == new_string[::-1]:\n",
    "        return True\n",
    "    else:\n",
    "        return False"
   ]
  },
  {
   "cell_type": "code",
   "execution_count": 9,
   "id": "9fa858e7-35a1-48fb-b45b-69ba34641785",
   "metadata": {},
   "outputs": [
    {
     "name": "stdout",
     "output_type": "stream",
     "text": [
      "amanaplanacanalpanama\n"
     ]
    },
    {
     "data": {
      "text/plain": [
       "True"
      ]
     },
     "execution_count": 9,
     "metadata": {},
     "output_type": "execute_result"
    }
   ],
   "source": [
    "s = \"A man, a plan, a canal: Panama\"\n",
    "valid_palindrome(s)"
   ]
  },
  {
   "cell_type": "code",
   "execution_count": 10,
   "id": "a12ae3a6-d2d0-4085-b887-29870bb181cb",
   "metadata": {},
   "outputs": [
    {
     "name": "stdout",
     "output_type": "stream",
     "text": [
      "raceacar\n"
     ]
    },
    {
     "data": {
      "text/plain": [
       "False"
      ]
     },
     "execution_count": 10,
     "metadata": {},
     "output_type": "execute_result"
    }
   ],
   "source": [
    "s = \"race a car\"\n",
    "valid_palindrome(s)"
   ]
  },
  {
   "cell_type": "code",
   "execution_count": 11,
   "id": "dd4d949e-902d-4baf-8a4e-0164e4370924",
   "metadata": {},
   "outputs": [
    {
     "name": "stdout",
     "output_type": "stream",
     "text": [
      "\n"
     ]
    },
    {
     "data": {
      "text/plain": [
       "True"
      ]
     },
     "execution_count": 11,
     "metadata": {},
     "output_type": "execute_result"
    }
   ],
   "source": [
    "s = \" \"\n",
    "valid_palindrome(s)"
   ]
  },
  {
   "cell_type": "code",
   "execution_count": 27,
   "id": "627dc056-dac7-45c1-81a7-5b6410f41324",
   "metadata": {},
   "outputs": [],
   "source": [
    "def valid_palindrome2(s):\n",
    "       \n",
    "    new_string = \"\".join(c for c in s.lower() if c.isalnum())\n",
    "    \n",
    "    return new_string == new_string[::-1]\n"
   ]
  },
  {
   "cell_type": "code",
   "execution_count": 28,
   "id": "85d42d41-f03c-46e1-a5bb-b32a764db64b",
   "metadata": {},
   "outputs": [
    {
     "data": {
      "text/plain": [
       "True"
      ]
     },
     "execution_count": 28,
     "metadata": {},
     "output_type": "execute_result"
    }
   ],
   "source": [
    "s = \"A man, a plan, a canal: Panama\"\n",
    "valid_palindrome2(s)"
   ]
  },
  {
   "cell_type": "code",
   "execution_count": 29,
   "id": "11fe2723-5d5a-45d5-a4b0-4556ecf4a30e",
   "metadata": {},
   "outputs": [
    {
     "data": {
      "text/plain": [
       "'amanaplanacanalpanama'"
      ]
     },
     "execution_count": 29,
     "metadata": {},
     "output_type": "execute_result"
    }
   ],
   "source": [
    "new_string = \"\".join(c for c in s.lower() if c.isalnum())\n",
    "new_string"
   ]
  },
  {
   "cell_type": "code",
   "execution_count": 30,
   "id": "a6fe547d-b42c-4e07-ae5c-097e59302143",
   "metadata": {},
   "outputs": [
    {
     "data": {
      "text/plain": [
       "False"
      ]
     },
     "execution_count": 30,
     "metadata": {},
     "output_type": "execute_result"
    }
   ],
   "source": [
    "s = \"race a car\"\n",
    "valid_palindrome2(s)"
   ]
  },
  {
   "cell_type": "code",
   "execution_count": 31,
   "id": "b00869d9-3502-4989-99a9-46a96fe22d11",
   "metadata": {},
   "outputs": [
    {
     "data": {
      "text/plain": [
       "True"
      ]
     },
     "execution_count": 31,
     "metadata": {},
     "output_type": "execute_result"
    }
   ],
   "source": [
    "s = \" \"\n",
    "valid_palindrome2(s)"
   ]
  },
  {
   "cell_type": "markdown",
   "id": "8dd80bda-05fa-4db2-b08a-7f5af4c32ee2",
   "metadata": {},
   "source": [
    "## String to integer"
   ]
  },
  {
   "cell_type": "code",
   "execution_count": 25,
   "id": "858a7596-f36f-4168-8696-7604cc4e8e22",
   "metadata": {},
   "outputs": [],
   "source": [
    "def str2int(s):\n",
    "    \n",
    "    # check sign\n",
    "    for c in s:\n",
    "        if c == '-':\n",
    "            is_pos = False\n",
    "            break\n",
    "        elif c == '+':\n",
    "            is_pos = True\n",
    "            break\n",
    "        else:\n",
    "            is_pos = True\n",
    "            \n",
    "    # create list of numbers\n",
    "    new_s = \"\".join(c for c in s if c.isdigit())\n",
    "    \n",
    "    # clean zeros in front\n",
    "    for i, c in enumerate(new_s):\n",
    "        if c != 0:\n",
    "            break\n",
    "        else:\n",
    "            return 0\n",
    "    new_s = new_s[i:]\n",
    "    \n",
    "    # putting it all together\n",
    "    if is_pos == False:\n",
    "        number = int(new_s) * (-1)\n",
    "    elif is_pos == True:\n",
    "        number = int(new_s)\n",
    "        \n",
    "    return number"
   ]
  },
  {
   "cell_type": "code",
   "execution_count": 37,
   "id": "52d84873-c38b-4631-8f32-9d0140bd6d99",
   "metadata": {},
   "outputs": [
    {
     "data": {
      "text/plain": [
       "4200"
      ]
     },
     "execution_count": 37,
     "metadata": {},
     "output_type": "execute_result"
    }
   ],
   "source": [
    "s = \"00004200\"\n",
    "str2int(s)"
   ]
  },
  {
   "cell_type": "code",
   "execution_count": 27,
   "id": "a141cf92-3fd6-4661-9b28-4bd3aeba7d34",
   "metadata": {},
   "outputs": [
    {
     "data": {
      "text/plain": [
       "42"
      ]
     },
     "execution_count": 27,
     "metadata": {},
     "output_type": "execute_result"
    }
   ],
   "source": [
    "s = \"42\"\n",
    "str2int(s)"
   ]
  },
  {
   "cell_type": "code",
   "execution_count": 28,
   "id": "67a2f603-6df1-46b8-b819-030735df3199",
   "metadata": {},
   "outputs": [
    {
     "data": {
      "text/plain": [
       "4193"
      ]
     },
     "execution_count": 28,
     "metadata": {},
     "output_type": "execute_result"
    }
   ],
   "source": [
    "s = \"4193 with words\"\n",
    "str2int(s)"
   ]
  },
  {
   "cell_type": "markdown",
   "id": "8ac15de5-be84-496c-9777-13b65a5d395a",
   "metadata": {},
   "source": [
    "## Implement strStr()"
   ]
  },
  {
   "cell_type": "code",
   "execution_count": 58,
   "id": "6f5f21a2-c4ca-4be0-b102-9e49d43b58ec",
   "metadata": {},
   "outputs": [],
   "source": [
    "def strStr(haystack, needle):\n",
    "    \n",
    "    n = len(needle)\n",
    "    N = len(haystack)\n",
    "    \n",
    "    indexes = []\n",
    "    \n",
    "    for i in range(N-n+1):\n",
    "        \n",
    "        word = haystack[i:i+n]\n",
    "        \n",
    "        if word == needle:\n",
    "            indexes.append(i)       \n",
    "    \n",
    "    if indexes == []:\n",
    "        return -1\n",
    "    else:   \n",
    "        return indexes[0]     \n",
    "        \n",
    "    "
   ]
  },
  {
   "cell_type": "code",
   "execution_count": 59,
   "id": "4410f85f-af3e-4f2d-9cb0-e91fa90dac09",
   "metadata": {},
   "outputs": [
    {
     "data": {
      "text/plain": [
       "[0, 6]"
      ]
     },
     "execution_count": 59,
     "metadata": {},
     "output_type": "execute_result"
    }
   ],
   "source": [
    "haystack = \"sadbutsad\"\n",
    "needle = \"sad\"\n",
    "strStr(haystack, needle)"
   ]
  },
  {
   "cell_type": "code",
   "execution_count": 60,
   "id": "d0708464-598e-4028-a06d-1e5f2f5fcb03",
   "metadata": {},
   "outputs": [
    {
     "data": {
      "text/plain": [
       "-1"
      ]
     },
     "execution_count": 60,
     "metadata": {},
     "output_type": "execute_result"
    }
   ],
   "source": [
    "haystack = \"leetcode\"\n",
    "needle = \"leeto\"\n",
    "strStr(haystack, needle)"
   ]
  },
  {
   "cell_type": "markdown",
   "id": "fed4e162-ca11-4449-ae1f-6301721d97ce",
   "metadata": {},
   "source": [
    "## Longest Common Prefix"
   ]
  },
  {
   "cell_type": "code",
   "execution_count": 61,
   "id": "a1e07ae6-5493-4724-8145-f1f5027eda24",
   "metadata": {
    "tags": []
   },
   "outputs": [],
   "source": [
    "strs = [\"flower\",\"flow\",\"flightflo\"]\n"
   ]
  },
  {
   "cell_type": "code",
   "execution_count": 62,
   "id": "d639068c-7b86-4cb6-a5b5-52f016ff7785",
   "metadata": {
    "tags": []
   },
   "outputs": [],
   "source": [
    "def longestCommonPrefix(strs):\n",
    "    if not strs:\n",
    "        return \"\"\n",
    "    \n",
    "    prefix = strs[0]\n",
    "    \n",
    "    for s in strs:\n",
    "        while not s.startswith(prefix):\n",
    "            prefix = prefix[:-1]\n",
    "            if not prefix:\n",
    "                return \"\"\n",
    "    \n",
    "    return prefix\n"
   ]
  },
  {
   "cell_type": "code",
   "execution_count": 65,
   "id": "3906ca8a-e311-4ec9-98b2-e974985f74fc",
   "metadata": {},
   "outputs": [
    {
     "data": {
      "text/plain": [
       "'fl'"
      ]
     },
     "execution_count": 65,
     "metadata": {},
     "output_type": "execute_result"
    }
   ],
   "source": [
    "strs = [\"flower\",\"flow\",\"flightflow\"]\n",
    "\n",
    "longestCommonPrefix(strs)"
   ]
  },
  {
   "cell_type": "code",
   "execution_count": 90,
   "id": "0e7e103a-db7c-475d-bc62-c43796d50aaa",
   "metadata": {},
   "outputs": [],
   "source": [
    "def longestCommonPrefix(strs):\n",
    "    \n",
    "    n = len(strs)\n",
    "    \n",
    "    if n == 0:\n",
    "        return \"\"\n",
    "    \n",
    "    for i, char in enumerate(strs[0]):\n",
    "\n",
    "        for k in range(1,n):            \n",
    "            if char != strs[k][i] or i == len(strs[k]):\n",
    "                return strs[0][:i]"
   ]
  },
  {
   "cell_type": "code",
   "execution_count": 91,
   "id": "46e23bfd-0a2d-46f1-85a5-b6688e43fe31",
   "metadata": {},
   "outputs": [
    {
     "data": {
      "text/plain": [
       "'fl'"
      ]
     },
     "execution_count": 91,
     "metadata": {},
     "output_type": "execute_result"
    }
   ],
   "source": [
    "strs = [\"flower\",\"flow\",\"flightflow\"]\n",
    "longestCommonPrefix(strs)"
   ]
  },
  {
   "cell_type": "code",
   "execution_count": 92,
   "id": "2523620f-672b-4cc3-b7ad-f3930604ca18",
   "metadata": {},
   "outputs": [
    {
     "data": {
      "text/plain": [
       "''"
      ]
     },
     "execution_count": 92,
     "metadata": {},
     "output_type": "execute_result"
    }
   ],
   "source": [
    "strs = [\"dog\",\"racecar\",\"car\"]\n",
    "longestCommonPrefix(strs)"
   ]
  },
  {
   "cell_type": "markdown",
   "id": "9f8165cb-9365-4d7c-a360-6747c64eb6c6",
   "metadata": {},
   "source": [
    "# Sorting and Searching"
   ]
  },
  {
   "cell_type": "markdown",
   "id": "e6aec328-8e12-4d90-946b-8de0e2c2475a",
   "metadata": {},
   "source": [
    "## Merge sorted array"
   ]
  },
  {
   "cell_type": "code",
   "execution_count": 55,
   "id": "aff79d90-3ecb-4d12-a9eb-7376b5cf15c9",
   "metadata": {},
   "outputs": [],
   "source": [
    "def merge_arrays(array1, array2):\n",
    "    \n",
    "    N1 = len(array1)\n",
    "    N2 = len(array2)\n",
    "    \n",
    "    z = N1-1\n",
    "    i = N1-N2-1\n",
    "    j = N2-1\n",
    "    \n",
    "    while z >= 0 and i >= 0 and j >= 0:\n",
    "        if array2[j] >= array1[i]:\n",
    "            array1[z] = array2[j]\n",
    "            z -= 1\n",
    "            j -= 1\n",
    "        else:\n",
    "            array1[z] = array1[i]\n",
    "            z -= 1\n",
    "            i -= 1\n",
    "            \n",
    "    return array1"
   ]
  },
  {
   "cell_type": "code",
   "execution_count": 56,
   "id": "b1ea00eb-4d8a-4b4a-9912-56f46375a9b7",
   "metadata": {},
   "outputs": [
    {
     "data": {
      "text/plain": [
       "[1, 2, 2, 3, 5, 6]"
      ]
     },
     "execution_count": 56,
     "metadata": {},
     "output_type": "execute_result"
    }
   ],
   "source": [
    "nums1 = [1,2,3,0,0,0]\n",
    "nums2 = [2,5,6]\n",
    "merge_arrays(nums1,nums2)"
   ]
  },
  {
   "cell_type": "code",
   "execution_count": 57,
   "id": "affdcab3-0ede-414c-966d-7eeee2c39aec",
   "metadata": {},
   "outputs": [
    {
     "data": {
      "text/plain": [
       "[1, 1, 2, 2, 3, 3]"
      ]
     },
     "execution_count": 57,
     "metadata": {},
     "output_type": "execute_result"
    }
   ],
   "source": [
    "nums1 = [1,2,3,0,0,0]\n",
    "nums2 = [1,2,3]\n",
    "merge_arrays(nums1,nums2)"
   ]
  },
  {
   "cell_type": "markdown",
   "id": "70b0aacb-3614-4dfb-8dbb-5f8687e9935c",
   "metadata": {},
   "source": [
    "# Dynamic Programming"
   ]
  },
  {
   "cell_type": "markdown",
   "id": "8271f8b1-54e6-4a14-a056-342588dacbe8",
   "metadata": {},
   "source": [
    "## Climbing Stairs"
   ]
  },
  {
   "cell_type": "code",
   "execution_count": null,
   "id": "7b3f59b4-6521-4e03-a606-4435dd7763d5",
   "metadata": {},
   "outputs": [],
   "source": []
  },
  {
   "cell_type": "markdown",
   "id": "faec8eab-c35d-4fac-996b-a877e10eccdc",
   "metadata": {},
   "source": [
    "# Math"
   ]
  },
  {
   "cell_type": "markdown",
   "id": "c927fdf9-27e6-4f82-b6f2-b0221c3719b9",
   "metadata": {},
   "source": [
    "## Fibonacci numbers"
   ]
  },
  {
   "cell_type": "code",
   "execution_count": 80,
   "id": "f76595d6-112f-46ee-af78-0bf488370ce2",
   "metadata": {},
   "outputs": [],
   "source": [
    "def fibonacci(n):\n",
    "    if n <= 1:\n",
    "        return n\n",
    "    \n",
    "    return fibonacci(n-1) + fibonacci(n-2)"
   ]
  },
  {
   "cell_type": "code",
   "execution_count": 81,
   "id": "1dd8b34b-ccf8-4664-a180-5e4e20d3fa39",
   "metadata": {},
   "outputs": [
    {
     "data": {
      "text/plain": [
       "13"
      ]
     },
     "execution_count": 81,
     "metadata": {},
     "output_type": "execute_result"
    }
   ],
   "source": [
    "fibonacci(7)"
   ]
  },
  {
   "cell_type": "code",
   "execution_count": 84,
   "id": "54d952af-327e-419d-beef-62a310a07dab",
   "metadata": {},
   "outputs": [],
   "source": [
    "def fibonacci(n):\n",
    "    \n",
    "    fib_list = [0, 1]\n",
    "    \n",
    "    for i in range(2,n):\n",
    "        fib_list.append(fib_list[i-1]+fib_list[i-2])\n",
    "        \n",
    "    return fib_list"
   ]
  },
  {
   "cell_type": "code",
   "execution_count": 85,
   "id": "797c9c1d-b16e-461e-a018-8ebd653d48d2",
   "metadata": {},
   "outputs": [
    {
     "data": {
      "text/plain": [
       "[0, 1, 1, 2, 3, 5, 8, 13]"
      ]
     },
     "execution_count": 85,
     "metadata": {},
     "output_type": "execute_result"
    }
   ],
   "source": [
    "fibonacci(8)"
   ]
  },
  {
   "cell_type": "markdown",
   "id": "d59c396d-a4ed-4c2c-a39e-4670fdac764d",
   "metadata": {},
   "source": [
    "## Count Primes"
   ]
  },
  {
   "cell_type": "code",
   "execution_count": 184,
   "id": "34277422-056a-47e5-bd0b-0ac1611a81dd",
   "metadata": {},
   "outputs": [],
   "source": [
    "def check_prime(n):\n",
    "    \n",
    "    if n == 2:\n",
    "        return True\n",
    "    \n",
    "    for i in range(2,n):\n",
    "        if n % i == 0:\n",
    "            return False\n",
    "    \n",
    "    return True\n",
    "        \n",
    "    \n",
    "def count_primes(n):\n",
    "    \n",
    "    count = 0\n",
    "    \n",
    "    for i in range(2,n+1):\n",
    "        #check for prime number\n",
    "        \n",
    "        if check_prime(i):\n",
    "            print(i)\n",
    "            count += 1\n",
    "            \n",
    "    return count"
   ]
  },
  {
   "cell_type": "code",
   "execution_count": 185,
   "id": "75b10a32-94f7-4676-8e16-826f8518943e",
   "metadata": {},
   "outputs": [
    {
     "name": "stdout",
     "output_type": "stream",
     "text": [
      "2\n",
      "3\n",
      "5\n",
      "7\n"
     ]
    },
    {
     "data": {
      "text/plain": [
       "4"
      ]
     },
     "execution_count": 185,
     "metadata": {},
     "output_type": "execute_result"
    }
   ],
   "source": [
    "count_primes(10)"
   ]
  },
  {
   "cell_type": "code",
   "execution_count": 186,
   "id": "ab8170fe-fd6b-4dd5-ba1e-b87341adff84",
   "metadata": {},
   "outputs": [
    {
     "data": {
      "text/plain": [
       "0"
      ]
     },
     "execution_count": 186,
     "metadata": {},
     "output_type": "execute_result"
    }
   ],
   "source": [
    "count_primes(1)"
   ]
  },
  {
   "cell_type": "code",
   "execution_count": 187,
   "id": "29a1cd21-1fc2-433d-ad22-d5d995c8603f",
   "metadata": {},
   "outputs": [
    {
     "name": "stdout",
     "output_type": "stream",
     "text": [
      "2\n",
      "3\n",
      "5\n",
      "7\n",
      "11\n",
      "13\n",
      "17\n"
     ]
    },
    {
     "data": {
      "text/plain": [
       "7"
      ]
     },
     "execution_count": 187,
     "metadata": {},
     "output_type": "execute_result"
    }
   ],
   "source": [
    "count_primes(17)"
   ]
  },
  {
   "cell_type": "markdown",
   "id": "e44e3b44-e288-4f6f-ab3c-5e95317823d4",
   "metadata": {},
   "source": [
    "## Power of Three\n",
    "\n"
   ]
  },
  {
   "cell_type": "code",
   "execution_count": 228,
   "id": "b0c654a7-d6cc-46e9-ba46-2935ff6de01c",
   "metadata": {},
   "outputs": [],
   "source": [
    "# I assume that I can not take logarithm or other advanced mathematical opertations\n",
    "\n",
    "def exponent_three(num):\n",
    "    \n",
    "    \n",
    "    i = 0\n",
    "    while True:\n",
    "        if i**3 == num:\n",
    "            return True\n",
    "        elif i**3 < num:\n",
    "            i += 1\n",
    "        elif num < i**3:\n",
    "            return False"
   ]
  },
  {
   "cell_type": "code",
   "execution_count": 229,
   "id": "bb7a8dc8-4136-4f42-88bb-cb14afa1e1c4",
   "metadata": {},
   "outputs": [
    {
     "data": {
      "text/plain": [
       "True"
      ]
     },
     "execution_count": 229,
     "metadata": {},
     "output_type": "execute_result"
    }
   ],
   "source": [
    "exponent_three(27)"
   ]
  },
  {
   "cell_type": "code",
   "execution_count": 230,
   "id": "e648eea7-0a74-4f76-a08e-1cbfdc109ef7",
   "metadata": {},
   "outputs": [
    {
     "data": {
      "text/plain": [
       "True"
      ]
     },
     "execution_count": 230,
     "metadata": {},
     "output_type": "execute_result"
    }
   ],
   "source": [
    "exponent_three(0)"
   ]
  },
  {
   "cell_type": "code",
   "execution_count": 231,
   "id": "c699d0ca-0866-4f68-9bca-e57db19632b9",
   "metadata": {},
   "outputs": [
    {
     "data": {
      "text/plain": [
       "False"
      ]
     },
     "execution_count": 231,
     "metadata": {},
     "output_type": "execute_result"
    }
   ],
   "source": [
    "exponent_three(-1)"
   ]
  },
  {
   "cell_type": "code",
   "execution_count": 232,
   "id": "9b091284-025d-481d-8e68-6141840ca788",
   "metadata": {},
   "outputs": [],
   "source": [
    "def power_three(num):\n",
    "    \n",
    "    i = 0\n",
    "    \n",
    "    while True:\n",
    "        if 3**i == num:\n",
    "            return True\n",
    "        elif 3**i < num:\n",
    "            i += 1\n",
    "        elif num < 3**i:\n",
    "            return False"
   ]
  },
  {
   "cell_type": "code",
   "execution_count": 233,
   "id": "bc8a8707-8ff3-47aa-a46f-37f50c0e5f42",
   "metadata": {},
   "outputs": [
    {
     "data": {
      "text/plain": [
       "True"
      ]
     },
     "execution_count": 233,
     "metadata": {},
     "output_type": "execute_result"
    }
   ],
   "source": [
    "power_three(27)"
   ]
  },
  {
   "cell_type": "code",
   "execution_count": 234,
   "id": "d5573abe-34d3-4367-b712-4f83fe59457c",
   "metadata": {},
   "outputs": [
    {
     "data": {
      "text/plain": [
       "True"
      ]
     },
     "execution_count": 234,
     "metadata": {},
     "output_type": "execute_result"
    }
   ],
   "source": [
    "power_three(9)"
   ]
  },
  {
   "cell_type": "code",
   "execution_count": 235,
   "id": "0ff4ba33-c052-4420-b68e-de5467758c41",
   "metadata": {},
   "outputs": [
    {
     "data": {
      "text/plain": [
       "False"
      ]
     },
     "execution_count": 235,
     "metadata": {},
     "output_type": "execute_result"
    }
   ],
   "source": [
    "power_three(5)"
   ]
  },
  {
   "cell_type": "code",
   "execution_count": 236,
   "id": "2e6a4fe2-dbd6-43e2-bfc5-2a113149a268",
   "metadata": {},
   "outputs": [
    {
     "data": {
      "text/plain": [
       "False"
      ]
     },
     "execution_count": 236,
     "metadata": {},
     "output_type": "execute_result"
    }
   ],
   "source": [
    "power_three(-1)"
   ]
  },
  {
   "cell_type": "code",
   "execution_count": 237,
   "id": "2d2ccb87-aa54-484e-9fc1-a480fa50fd0c",
   "metadata": {},
   "outputs": [
    {
     "data": {
      "text/plain": [
       "False"
      ]
     },
     "execution_count": 237,
     "metadata": {},
     "output_type": "execute_result"
    }
   ],
   "source": [
    "power_three(0)"
   ]
  },
  {
   "cell_type": "code",
   "execution_count": 240,
   "id": "f6d13b40-0069-4619-9fcd-5ed8ff0f2961",
   "metadata": {},
   "outputs": [],
   "source": [
    "def power_three(num):\n",
    "    \n",
    "    if num <= 0:\n",
    "        return False\n",
    "    \n",
    "    while num % 3 == 0:\n",
    "        num = num/3\n",
    "        print(num)\n",
    "    return num == 1"
   ]
  },
  {
   "cell_type": "code",
   "execution_count": 243,
   "id": "f1ac7c74-8a44-4905-abe7-1c95bc9409ad",
   "metadata": {},
   "outputs": [
    {
     "name": "stdout",
     "output_type": "stream",
     "text": [
      "2.0\n"
     ]
    },
    {
     "data": {
      "text/plain": [
       "False"
      ]
     },
     "execution_count": 243,
     "metadata": {},
     "output_type": "execute_result"
    }
   ],
   "source": [
    "power_three(6)"
   ]
  },
  {
   "cell_type": "code",
   "execution_count": 244,
   "id": "df612bad-c4f9-4282-befc-66236ec5565f",
   "metadata": {},
   "outputs": [
    {
     "name": "stdout",
     "output_type": "stream",
     "text": [
      "3.0\n",
      "1.0\n"
     ]
    },
    {
     "data": {
      "text/plain": [
       "True"
      ]
     },
     "execution_count": 244,
     "metadata": {},
     "output_type": "execute_result"
    }
   ],
   "source": [
    "power_three(9)"
   ]
  },
  {
   "cell_type": "markdown",
   "id": "fdf21a30-260b-4ebf-9508-b3c04841d174",
   "metadata": {},
   "source": [
    "# Other"
   ]
  },
  {
   "cell_type": "markdown",
   "id": "9a7a1f59-dd09-499c-901c-07a72712f59c",
   "metadata": {},
   "source": [
    "## Hamming distance"
   ]
  },
  {
   "cell_type": "code",
   "execution_count": 26,
   "id": "16a77f2f-2e2b-4d4d-81cc-ae8eb13c050f",
   "metadata": {},
   "outputs": [],
   "source": [
    "s = 5"
   ]
  },
  {
   "cell_type": "code",
   "execution_count": 27,
   "id": "a82ef522-24a0-4047-bbda-e5e3a55e7f91",
   "metadata": {},
   "outputs": [
    {
     "data": {
      "text/plain": [
       "3"
      ]
     },
     "execution_count": 27,
     "metadata": {},
     "output_type": "execute_result"
    }
   ],
   "source": [
    "s.bit_length()"
   ]
  },
  {
   "cell_type": "code",
   "execution_count": 30,
   "id": "b5208599-1afe-4851-8bb1-2efcb410b0b8",
   "metadata": {},
   "outputs": [],
   "source": [
    "def hamming_dist(num1,num2):\n",
    "    \n",
    "    return abs(num1.bit_length() - num2.bit_length())\n",
    "    "
   ]
  },
  {
   "cell_type": "code",
   "execution_count": 31,
   "id": "a9b5e6a1-4e8d-49bc-bd43-a012c68f70af",
   "metadata": {},
   "outputs": [
    {
     "data": {
      "text/plain": [
       "2"
      ]
     },
     "execution_count": 31,
     "metadata": {},
     "output_type": "execute_result"
    }
   ],
   "source": [
    "x = 1\n",
    "y = 4\n",
    "hamming_dist(x,y)"
   ]
  },
  {
   "cell_type": "code",
   "execution_count": 32,
   "id": "1d299f5b-554b-4ebc-9016-00bd2afbed2f",
   "metadata": {},
   "outputs": [
    {
     "data": {
      "text/plain": [
       "1"
      ]
     },
     "execution_count": 32,
     "metadata": {},
     "output_type": "execute_result"
    }
   ],
   "source": [
    "x = 3\n",
    "y = 1\n",
    "hamming_dist(x,y)"
   ]
  },
  {
   "cell_type": "code",
   "execution_count": 33,
   "id": "b31c2c9c-a5db-4b11-a676-1475c61e9254",
   "metadata": {},
   "outputs": [
    {
     "data": {
      "text/plain": [
       "'0b101'"
      ]
     },
     "execution_count": 33,
     "metadata": {},
     "output_type": "execute_result"
    }
   ],
   "source": [
    "bin(5)"
   ]
  },
  {
   "cell_type": "code",
   "execution_count": 34,
   "id": "66eab698-ae8a-43a6-92fc-4d17ef71481c",
   "metadata": {},
   "outputs": [
    {
     "data": {
      "text/plain": [
       "'0b100'"
      ]
     },
     "execution_count": 34,
     "metadata": {},
     "output_type": "execute_result"
    }
   ],
   "source": [
    "bin(4)"
   ]
  },
  {
   "cell_type": "code",
   "execution_count": 37,
   "id": "4c1eb61e-8681-4213-b528-96124d53ca96",
   "metadata": {},
   "outputs": [
    {
     "data": {
      "text/plain": [
       "'0b1'"
      ]
     },
     "execution_count": 37,
     "metadata": {},
     "output_type": "execute_result"
    }
   ],
   "source": [
    "bin(1)"
   ]
  },
  {
   "cell_type": "code",
   "execution_count": null,
   "id": "05b97306-edd0-402f-b3ce-10b3c88cc26c",
   "metadata": {},
   "outputs": [],
   "source": []
  }
 ],
 "metadata": {
  "kernelspec": {
   "display_name": "Python 3 (ipykernel)",
   "language": "python",
   "name": "python3"
  },
  "language_info": {
   "codemirror_mode": {
    "name": "ipython",
    "version": 3
   },
   "file_extension": ".py",
   "mimetype": "text/x-python",
   "name": "python",
   "nbconvert_exporter": "python",
   "pygments_lexer": "ipython3",
   "version": "3.9.13"
  }
 },
 "nbformat": 4,
 "nbformat_minor": 5
}

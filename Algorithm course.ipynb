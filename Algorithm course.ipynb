{
 "cells": [
  {
   "cell_type": "markdown",
   "id": "2067d903-b98d-462b-a8a2-7750c5def1bc",
   "metadata": {},
   "source": [
    "Problems are taken from www.enjoyalgorithms.com."
   ]
  },
  {
   "cell_type": "markdown",
   "id": "75e7c7f2-5f03-4d69-888c-0fce543f1da2",
   "metadata": {},
   "source": [
    "# Loop and itearation"
   ]
  },
  {
   "cell_type": "markdown",
   "id": "27add641-bbc1-4b08-9e5d-b59c7e25e4d1",
   "metadata": {},
   "source": [
    "## Count the number of building facing sun"
   ]
  },
  {
   "cell_type": "code",
   "execution_count": 4,
   "id": "d7dbfcbd-0914-4abb-ad0a-1c24148cbbf7",
   "metadata": {},
   "outputs": [],
   "source": [
    "# building is enclosed when adjacent building's heights are bigger\n",
    "def count_facing_sun(array):\n",
    "    \n",
    "    N = len(array)\n",
    "    \n",
    "    count_enclosed = 0\n",
    "    for i in range(1,N-1):\n",
    "        \n",
    "        if array[i] < array[i+1] and array[i-1] > array[i]:\n",
    "            count_enclosed += 1\n",
    "    \n",
    "    print(N - count_enclosed)"
   ]
  },
  {
   "cell_type": "code",
   "execution_count": 5,
   "id": "176d8e53-9363-4317-87e2-13ee25b8b36f",
   "metadata": {},
   "outputs": [
    {
     "name": "stdout",
     "output_type": "stream",
     "text": [
      "3\n"
     ]
    }
   ],
   "source": [
    "height = [7,4,8,2,9]\n",
    "count_facing_sun(height)"
   ]
  },
  {
   "cell_type": "code",
   "execution_count": 6,
   "id": "a83aff93-258a-4bea-a881-e64d7077026f",
   "metadata": {},
   "outputs": [
    {
     "name": "stdout",
     "output_type": "stream",
     "text": [
      "4\n"
     ]
    }
   ],
   "source": [
    "height = [2,3,4,5]\n",
    "count_facing_sun(height)"
   ]
  },
  {
   "cell_type": "markdown",
   "id": "9f22ffe2-09d1-4234-8845-4aa27d14c422",
   "metadata": {},
   "source": [
    "## Leaders in an array"
   ]
  },
  {
   "cell_type": "code",
   "execution_count": 16,
   "id": "a3286151-0006-4af1-943d-3e23cc3baef8",
   "metadata": {},
   "outputs": [],
   "source": [
    "def leaders(array):\n",
    "    \n",
    "    array.reverse()\n",
    "    \n",
    "    N = len(array)\n",
    "    \n",
    "    leaders_list = [array[0]]\n",
    "    max_number = array[0]\n",
    "    \n",
    "    for i in range(1,N):\n",
    "        \n",
    "        if array[i] > max_number:\n",
    "            leaders_list.append(array[i])\n",
    "            max_number = array[i]\n",
    "        \n",
    "    return leaders_list"
   ]
  },
  {
   "cell_type": "code",
   "execution_count": 17,
   "id": "bd3117ec-16de-41a7-8261-b0a5271ce515",
   "metadata": {},
   "outputs": [
    {
     "data": {
      "text/plain": [
       "[2, 5, 17]"
      ]
     },
     "execution_count": 17,
     "metadata": {},
     "output_type": "execute_result"
    }
   ],
   "source": [
    "nums = [16,17,4,3,5,2]\n",
    "leaders(nums)"
   ]
  },
  {
   "cell_type": "code",
   "execution_count": 18,
   "id": "33c8820d-cd54-4d0e-b534-e16bf115432f",
   "metadata": {},
   "outputs": [
    {
     "data": {
      "text/plain": [
       "[1, 2, 3, 4, 5, 6]"
      ]
     },
     "execution_count": 18,
     "metadata": {},
     "output_type": "execute_result"
    }
   ],
   "source": [
    "nums = [6,5,4,3,2,1]\n",
    "leaders(nums)"
   ]
  },
  {
   "cell_type": "code",
   "execution_count": 19,
   "id": "757b598d-ffb5-4a7a-916a-65cf3cb3c2e0",
   "metadata": {},
   "outputs": [
    {
     "data": {
      "text/plain": [
       "[6]"
      ]
     },
     "execution_count": 19,
     "metadata": {},
     "output_type": "execute_result"
    }
   ],
   "source": [
    "nums = [1,2,3,4,5,6]\n",
    "leaders(nums)"
   ]
  },
  {
   "cell_type": "markdown",
   "id": "56ed3ec0-33e9-4d03-83d0-1900da71a4cf",
   "metadata": {},
   "source": [
    "## Valid Mountain Array"
   ]
  },
  {
   "cell_type": "code",
   "execution_count": 25,
   "id": "7228d030-b102-462a-894c-0ce005f795b2",
   "metadata": {},
   "outputs": [],
   "source": [
    "def valid_mountain(array):\n",
    "    \n",
    "    \n",
    "    # array longer than 3 elements\n",
    "    N = len(array)\n",
    "    if N < 3:\n",
    "        return False\n",
    "    \n",
    "    # find max number\n",
    "    num_max = 0\n",
    "    i_max = 0\n",
    "    for i, num in enumerate(array):\n",
    "        if num > num_max:\n",
    "            num_max = num\n",
    "            i_max = i\n",
    "            \n",
    "    if i_max == 0 or i_max == N-1:\n",
    "        return False\n",
    "    \n",
    "    # check order of numbers\n",
    "    # left check\n",
    "    for i in range(i_max):\n",
    "        if array[i] > array[i+1]:\n",
    "            return False\n",
    "    #right check\n",
    "    for i in range(i_max, N-1):\n",
    "        if array[i] < array[i+1]:\n",
    "            return False\n",
    "        \n",
    "    return True"
   ]
  },
  {
   "cell_type": "code",
   "execution_count": 29,
   "id": "fb7a4da4-7c4f-4c93-b952-b5da108daeab",
   "metadata": {},
   "outputs": [
    {
     "data": {
      "text/plain": [
       "False"
      ]
     },
     "execution_count": 29,
     "metadata": {},
     "output_type": "execute_result"
    }
   ],
   "source": [
    "array = [5,2,1,4]\n",
    "valid_mountain(array)"
   ]
  },
  {
   "cell_type": "code",
   "execution_count": 30,
   "id": "2329e678-c875-41c1-9c56-ff5fc063e699",
   "metadata": {},
   "outputs": [
    {
     "name": "stdout",
     "output_type": "stream",
     "text": [
      "CPU times: user 56 µs, sys: 8 µs, total: 64 µs\n",
      "Wall time: 72.2 µs\n"
     ]
    },
    {
     "data": {
      "text/plain": [
       "True"
      ]
     },
     "execution_count": 30,
     "metadata": {},
     "output_type": "execute_result"
    }
   ],
   "source": [
    "%%time\n",
    "array = [1,2,6,5,3]\n",
    "valid_mountain(array)"
   ]
  },
  {
   "cell_type": "code",
   "execution_count": 34,
   "id": "5c4e6848-1916-4b71-88c0-40ba8d3fbd10",
   "metadata": {},
   "outputs": [],
   "source": [
    "def valid_mountain(array):\n",
    "    \n",
    "    # array longer than 3 elements\n",
    "    N = len(array)\n",
    "    if N < 3:\n",
    "        return False\n",
    "    \n",
    "    climb = 0 # like index\n",
    "    \n",
    "    #going uphill\n",
    "    while climb < N-1 and array[climb+1] > array[climb]:\n",
    "        climb += 1\n",
    "        \n",
    "    if climb == 0 or climb == N-1:\n",
    "        return False\n",
    "    \n",
    "    #going downhill\n",
    "    while climb < N-1 and array[climb] > array[climb+1]:\n",
    "        climb += 1\n",
    "        \n",
    "    if climb == N-1:\n",
    "        return True\n",
    "    else:\n",
    "        return False"
   ]
  },
  {
   "cell_type": "code",
   "execution_count": 35,
   "id": "fc27d95e-ae02-41f7-9ded-ebee35cacce5",
   "metadata": {},
   "outputs": [
    {
     "data": {
      "text/plain": [
       "False"
      ]
     },
     "execution_count": 35,
     "metadata": {},
     "output_type": "execute_result"
    }
   ],
   "source": [
    "array = [5,2,1,4]\n",
    "valid_mountain(array)"
   ]
  },
  {
   "cell_type": "code",
   "execution_count": 36,
   "id": "96efa436-6597-4236-b994-aeb8656ce8a0",
   "metadata": {},
   "outputs": [
    {
     "name": "stdout",
     "output_type": "stream",
     "text": [
      "CPU times: user 10 µs, sys: 1 µs, total: 11 µs\n",
      "Wall time: 12.9 µs\n"
     ]
    },
    {
     "data": {
      "text/plain": [
       "True"
      ]
     },
     "execution_count": 36,
     "metadata": {},
     "output_type": "execute_result"
    }
   ],
   "source": [
    "%%time\n",
    "array = [1,2,6,5,3]\n",
    "valid_mountain(array)"
   ]
  },
  {
   "cell_type": "markdown",
   "id": "4e194658-016d-4086-9cd4-a1fda31f4a2c",
   "metadata": {},
   "source": [
    "## Equilibrium index"
   ]
  },
  {
   "cell_type": "code",
   "execution_count": 5,
   "id": "db8eef9f-51a2-4403-ac86-f4ecc9ba1252",
   "metadata": {},
   "outputs": [],
   "source": [
    "def equilibrium_index(array):\n",
    "    \n",
    "    N = len(array)\n",
    "    Sum = sum(array)\n",
    "\n",
    "    \n",
    "    left = 0\n",
    "    right = Sum - array[0]\n",
    "    \n",
    "    for i in range(1, N-1):\n",
    "        \n",
    "        left += array[i-1]\n",
    "        right -= array[i]\n",
    "        \n",
    "        if left == right:\n",
    "            return i\n",
    "        \n",
    "    return -1\n",
    "        "
   ]
  },
  {
   "cell_type": "code",
   "execution_count": 6,
   "id": "7ac4a224-317c-40fb-ae71-be2bd8711226",
   "metadata": {},
   "outputs": [
    {
     "data": {
      "text/plain": [
       "1"
      ]
     },
     "execution_count": 6,
     "metadata": {},
     "output_type": "execute_result"
    }
   ],
   "source": [
    "nums = [0,1,3,-2,-1]\n",
    "equilibrium_index(nums)"
   ]
  },
  {
   "cell_type": "code",
   "execution_count": 8,
   "id": "9a55efe5-0cde-43cf-9a1d-b1cf79022d33",
   "metadata": {},
   "outputs": [
    {
     "data": {
      "text/plain": [
       "3"
      ]
     },
     "execution_count": 8,
     "metadata": {},
     "output_type": "execute_result"
    }
   ],
   "source": [
    "nums = [-7, 1 ,5,2,-4,3,0]\n",
    "equilibrium_index(nums)"
   ]
  },
  {
   "cell_type": "code",
   "execution_count": 9,
   "id": "ad09dbee-a02b-4a67-81df-f5d33aaafe72",
   "metadata": {
    "tags": []
   },
   "outputs": [
    {
     "data": {
      "text/plain": [
       "-1"
      ]
     },
     "execution_count": 9,
     "metadata": {},
     "output_type": "execute_result"
    }
   ],
   "source": [
    "nums = [1,2,-2,-1]\n",
    "equilibrium_index(nums)"
   ]
  },
  {
   "cell_type": "markdown",
   "id": "225e7a8e-6438-4481-b60e-e17b7db5acd6",
   "metadata": {},
   "source": [
    "# Two pointers and sliding window"
   ]
  },
  {
   "cell_type": "markdown",
   "id": "1bdce479-e89c-4869-a09c-e5af7211821e",
   "metadata": {},
   "source": [
    "## Move zeroes to End"
   ]
  },
  {
   "cell_type": "code",
   "execution_count": 48,
   "id": "5cd5e236-e997-4d2e-8c7f-1e55aada1405",
   "metadata": {},
   "outputs": [],
   "source": [
    "def move_zeroes(array):\n",
    "    \n",
    "    N = len(array)\n",
    "    \n",
    "    i = 0\n",
    "    j = 1\n",
    "    \n",
    "    \n",
    "    while i < N and j < N:\n",
    "        \n",
    "        \n",
    "        if array[i] == 0 and array[j] != 0:\n",
    "            array[i], array[j] = array[j], array[i]\n",
    "            i += 1\n",
    "            j += 1\n",
    "        elif array[i] == 0 and array[j] == 0:\n",
    "            i += 0\n",
    "            j += 1\n",
    "        elif array[i] != 0 and array[j] != 0:\n",
    "            i += 1\n",
    "            j += 1\n",
    "        elif array[i] != 0 and array[j] == 0:\n",
    "            i += 1\n",
    "            j += 1\n",
    "\n",
    "        \n",
    "    return array\n",
    "            \n",
    "        "
   ]
  },
  {
   "cell_type": "code",
   "execution_count": 49,
   "id": "794537b7-42f9-4390-adb0-961f6cd4b7df",
   "metadata": {},
   "outputs": [
    {
     "name": "stdout",
     "output_type": "stream",
     "text": [
      "[6, 0, 2, 0, 1]\n",
      "[6, 2, 0, 0, 1]\n",
      "[6, 2, 0, 0, 1]\n",
      "[6, 2, 1, 0, 0]\n"
     ]
    },
    {
     "data": {
      "text/plain": [
       "[6, 2, 1, 0, 0]"
      ]
     },
     "execution_count": 49,
     "metadata": {},
     "output_type": "execute_result"
    }
   ],
   "source": [
    "nums=[6,0,2,0,1]\n",
    "move_zeroes(nums)"
   ]
  },
  {
   "cell_type": "code",
   "execution_count": 50,
   "id": "bbce8e53-f50a-417c-b1d0-1097cd7e5c4a",
   "metadata": {},
   "outputs": [
    {
     "name": "stdout",
     "output_type": "stream",
     "text": [
      "[4, 8, 6, 0, 2, 0, 1, 15, 12, 0]\n",
      "[4, 8, 6, 0, 2, 0, 1, 15, 12, 0]\n",
      "[4, 8, 6, 0, 2, 0, 1, 15, 12, 0]\n",
      "[4, 8, 6, 2, 0, 0, 1, 15, 12, 0]\n",
      "[4, 8, 6, 2, 0, 0, 1, 15, 12, 0]\n",
      "[4, 8, 6, 2, 1, 0, 0, 15, 12, 0]\n",
      "[4, 8, 6, 2, 1, 15, 0, 0, 12, 0]\n",
      "[4, 8, 6, 2, 1, 15, 12, 0, 0, 0]\n",
      "[4, 8, 6, 2, 1, 15, 12, 0, 0, 0]\n"
     ]
    },
    {
     "data": {
      "text/plain": [
       "[4, 8, 6, 2, 1, 15, 12, 0, 0, 0]"
      ]
     },
     "execution_count": 50,
     "metadata": {},
     "output_type": "execute_result"
    }
   ],
   "source": [
    "nums = [4,8,6,0,2,0,1,15,12,0]\n",
    "move_zeroes(nums)"
   ]
  },
  {
   "cell_type": "code",
   "execution_count": 71,
   "id": "3836eb8b-4a4e-4882-912c-bd90bb3d8a8b",
   "metadata": {},
   "outputs": [],
   "source": [
    "def move_zeroes2(array):\n",
    "    \n",
    "    N = len(array)\n",
    "    \n",
    "    j = 0\n",
    "    for i in range(N):\n",
    "        if array[i] != 0:\n",
    "            array[i], array[j] = array[j], array[i]\n",
    "            j = j + 1\n",
    "        \n",
    "    return array"
   ]
  },
  {
   "cell_type": "code",
   "execution_count": 73,
   "id": "eff9c2c4-8cfe-480b-9157-a2793fcd3d4a",
   "metadata": {},
   "outputs": [
    {
     "name": "stdout",
     "output_type": "stream",
     "text": [
      "[6, 0, 2, 0, 1]\n",
      "[6, 0, 2, 0, 1]\n",
      "[6, 2, 0, 0, 1]\n",
      "[6, 2, 0, 0, 1]\n",
      "[6, 2, 1, 0, 0]\n"
     ]
    },
    {
     "data": {
      "text/plain": [
       "[6, 2, 1, 0, 0]"
      ]
     },
     "execution_count": 73,
     "metadata": {},
     "output_type": "execute_result"
    }
   ],
   "source": [
    "nums=[6,0,2,0,1]\n",
    "move_zeroes2(nums)"
   ]
  },
  {
   "cell_type": "code",
   "execution_count": 74,
   "id": "4a7c5fef-a31d-4bb9-b8e6-724297645f1d",
   "metadata": {},
   "outputs": [
    {
     "name": "stdout",
     "output_type": "stream",
     "text": [
      "[4, 8, 6, 0, 2, 0, 1, 15, 12, 0]\n",
      "[4, 8, 6, 0, 2, 0, 1, 15, 12, 0]\n",
      "[4, 8, 6, 0, 2, 0, 1, 15, 12, 0]\n",
      "[4, 8, 6, 0, 2, 0, 1, 15, 12, 0]\n",
      "[4, 8, 6, 2, 0, 0, 1, 15, 12, 0]\n",
      "[4, 8, 6, 2, 0, 0, 1, 15, 12, 0]\n",
      "[4, 8, 6, 2, 1, 0, 0, 15, 12, 0]\n",
      "[4, 8, 6, 2, 1, 15, 0, 0, 12, 0]\n",
      "[4, 8, 6, 2, 1, 15, 12, 0, 0, 0]\n",
      "[4, 8, 6, 2, 1, 15, 12, 0, 0, 0]\n"
     ]
    },
    {
     "data": {
      "text/plain": [
       "[4, 8, 6, 2, 1, 15, 12, 0, 0, 0]"
      ]
     },
     "execution_count": 74,
     "metadata": {},
     "output_type": "execute_result"
    }
   ],
   "source": [
    "nums = [4,8,6,0,2,0,1,15,12,0]\n",
    "move_zeroes2(nums)"
   ]
  },
  {
   "cell_type": "markdown",
   "id": "d97fbd7d-4c84-4a69-b8fb-0abaa31789b0",
   "metadata": {},
   "source": [
    "## Remove duplicate from sorted array"
   ]
  },
  {
   "cell_type": "code",
   "execution_count": 109,
   "id": "ddefa2e4-3ec3-449b-a267-bcb337114a8d",
   "metadata": {},
   "outputs": [],
   "source": [
    "#find unique element\n",
    "\n",
    "def find_unique(array):\n",
    "    \n",
    "    N = len(array)\n",
    "    \n",
    "    i = 0 \n",
    "    j = 1\n",
    "    \n",
    "    unique = 0\n",
    "    count = 0\n",
    "    \n",
    "    while i < N and j < N:\n",
    "        \n",
    "        if array[i] == array[j]:\n",
    "            i += 0\n",
    "            j += 1\n",
    "            \n",
    "        elif array[i] != array[j]:\n",
    "            array[i+1] = array[j]\n",
    "            i += 1\n",
    "            j += 0            \n",
    "            unique += 1\n",
    "            \n",
    "        count += 1\n",
    "        \n",
    "    return array[:unique+1], count, N\n",
    "\n",
    "            "
   ]
  },
  {
   "cell_type": "code",
   "execution_count": 110,
   "id": "83aebdbb-042b-412d-93f8-1244024388ac",
   "metadata": {},
   "outputs": [
    {
     "data": {
      "text/plain": [
       "([1, 2, 3], 6, 5)"
      ]
     },
     "execution_count": 110,
     "metadata": {},
     "output_type": "execute_result"
    }
   ],
   "source": [
    "nums = [1,1,2,2,3]\n",
    "find_unique(nums)"
   ]
  },
  {
   "cell_type": "code",
   "execution_count": 111,
   "id": "875ac5a0-b27d-40bb-bb95-7381b5490e50",
   "metadata": {},
   "outputs": [
    {
     "data": {
      "text/plain": [
       "([1, 2, 3, 4, 5], 12, 9)"
      ]
     },
     "execution_count": 111,
     "metadata": {},
     "output_type": "execute_result"
    }
   ],
   "source": [
    "nums = [1,2,2,3,4,4,4,5,5]\n",
    "find_unique(nums)"
   ]
  },
  {
   "cell_type": "markdown",
   "id": "bf374ec9-c14d-4062-a76e-33a8c1b5ce9e",
   "metadata": {},
   "source": [
    "## Longest unique substring"
   ]
  },
  {
   "cell_type": "code",
   "execution_count": 192,
   "id": "b79f8848-9970-455d-99d4-52bfe687c220",
   "metadata": {},
   "outputs": [],
   "source": [
    "def longest_substring(string):\n",
    "    \n",
    "    N = len(string)\n",
    "    \n",
    "    list_string = []\n",
    "    \n",
    "    i = 0\n",
    "    for j in range(N):\n",
    "        \n",
    "        substring = string[i:j]\n",
    "        print(substring)\n",
    "        index = substring.find(string[j])\n",
    "        if index >= 0:\n",
    "            list_string.append(substring)\n",
    "            i = i + index + 1\n",
    "            \n",
    "    list_string.append(substring)\n",
    "    return list_string"
   ]
  },
  {
   "cell_type": "code",
   "execution_count": 193,
   "id": "2f4880fc-bf6d-4335-9847-bd7772f930ce",
   "metadata": {
    "tags": []
   },
   "outputs": [
    {
     "name": "stdout",
     "output_type": "stream",
     "text": [
      "\n",
      "e\n",
      "en\n",
      "enj\n",
      "enjo\n",
      "enjoy\n",
      "enjoya\n",
      "enjoyal\n",
      "enjoyalg\n",
      "yalgo\n",
      "yalgor\n",
      "yalgori\n",
      "yalgorit\n",
      "yalgorith\n",
      "yalgorithm\n"
     ]
    },
    {
     "data": {
      "text/plain": [
       "['enjoyalg', 'yalgorithm']"
      ]
     },
     "execution_count": 193,
     "metadata": {},
     "output_type": "execute_result"
    }
   ],
   "source": [
    "string = \"enjoyalgorithms\"\n",
    "longest_substring(string)"
   ]
  },
  {
   "cell_type": "code",
   "execution_count": 194,
   "id": "7119c55f-4b6e-44bb-9f50-504360208295",
   "metadata": {},
   "outputs": [
    {
     "name": "stdout",
     "output_type": "stream",
     "text": [
      "\n",
      "b\n",
      "b\n",
      "b\n"
     ]
    },
    {
     "data": {
      "text/plain": [
       "['b', 'b', 'b', 'b']"
      ]
     },
     "execution_count": 194,
     "metadata": {},
     "output_type": "execute_result"
    }
   ],
   "source": [
    "string = \"bbbb\"\n",
    "longest_substring(string)"
   ]
  },
  {
   "cell_type": "code",
   "execution_count": 195,
   "id": "18ed87e4-173f-4560-8e71-430a7826080c",
   "metadata": {},
   "outputs": [
    {
     "name": "stdout",
     "output_type": "stream",
     "text": [
      "\n",
      "a\n",
      "ab\n",
      "abc\n",
      "bca\n",
      "cab\n"
     ]
    },
    {
     "data": {
      "text/plain": [
       "['abc', 'bca', 'cab', 'cab']"
      ]
     },
     "execution_count": 195,
     "metadata": {},
     "output_type": "execute_result"
    }
   ],
   "source": [
    "string = \"abcabc\"\n",
    "longest_substring(string)"
   ]
  },
  {
   "cell_type": "markdown",
   "id": "2c75da2f-1c38-4477-835c-6f3d0e97c9a2",
   "metadata": {},
   "source": [
    "## Find N repeated Element in 2N Size Array"
   ]
  },
  {
   "cell_type": "code",
   "execution_count": 203,
   "id": "d7177c79-7e86-4ad0-b3ec-ba63cd85dca1",
   "metadata": {},
   "outputs": [],
   "source": [
    "def find_n_repeated(array):\n",
    "    \n",
    "    N = len(array)\n",
    "    \n",
    "    count = {}\n",
    "    \n",
    "    for i in range(N):\n",
    "        \n",
    "        count[array[i]] = count.get(array[i],0) + 1\n",
    "        for key in count:\n",
    "            if count[key] > 1:\n",
    "                return key\n",
    "    # for key in count:\n",
    "    #     if count[key] > 1:\n",
    "    #         return key"
   ]
  },
  {
   "cell_type": "code",
   "execution_count": 204,
   "id": "e98e55df-0c64-4cab-bc4d-531fb6a0fcb2",
   "metadata": {},
   "outputs": [
    {
     "data": {
      "text/plain": [
       "2"
      ]
     },
     "execution_count": 204,
     "metadata": {},
     "output_type": "execute_result"
    }
   ],
   "source": [
    "nums = [1,2,2,3]\n",
    "find_n_repeated(nums)"
   ]
  },
  {
   "cell_type": "code",
   "execution_count": 205,
   "id": "2cb49ec8-a894-4ac8-a7dd-7d6b44d4393a",
   "metadata": {},
   "outputs": [
    {
     "data": {
      "text/plain": [
       "2"
      ]
     },
     "execution_count": 205,
     "metadata": {},
     "output_type": "execute_result"
    }
   ],
   "source": [
    "nums = [2,1,2,5,3,2,2,4]\n",
    "find_n_repeated(nums)"
   ]
  },
  {
   "cell_type": "markdown",
   "id": "ea4c2062-dc21-412f-b978-b18242d0da12",
   "metadata": {},
   "source": [
    "## Maximum consecutive 1s"
   ]
  },
  {
   "cell_type": "code",
   "execution_count": 226,
   "id": "cd9f2c52-0e5e-4ef8-95ec-5b75a0931f99",
   "metadata": {},
   "outputs": [],
   "source": [
    "def max_conseq_1(array):\n",
    "    \n",
    "    N = len(array)\n",
    "    \n",
    "    i = 0\n",
    "    \n",
    "    count = []\n",
    "    hold_on = False\n",
    "    for j in range(N):\n",
    "        \n",
    "        if j == 1 and hold_on == False:\n",
    "            i = j\n",
    "            hold_on = True\n",
    "        elif j == 0 and hold_on == True:\n",
    "            number = j-i-1\n",
    "            count.append(number)\n",
    "            hold_on = False\n",
    "            \n",
    "    return count"
   ]
  },
  {
   "cell_type": "code",
   "execution_count": 227,
   "id": "5ecc495a-54ab-4605-8429-053ef7e44355",
   "metadata": {},
   "outputs": [
    {
     "name": "stdout",
     "output_type": "stream",
     "text": [
      "0 0 False\n",
      "0 1 False\n",
      "1 2 True\n",
      "1 3 True\n",
      "1 4 True\n",
      "1 5 True\n",
      "1 6 True\n",
      "1 7 True\n",
      "1 8 True\n"
     ]
    },
    {
     "data": {
      "text/plain": [
       "[]"
      ]
     },
     "execution_count": 227,
     "metadata": {},
     "output_type": "execute_result"
    }
   ],
   "source": [
    "nums = [1,1,0,1,1,1,0,0,1]\n",
    "max_conseq_1(nums)"
   ]
  },
  {
   "cell_type": "code",
   "execution_count": null,
   "id": "f5cc3d96-e0b7-4b6c-846b-62f6629e640e",
   "metadata": {},
   "outputs": [],
   "source": []
  },
  {
   "cell_type": "code",
   "execution_count": null,
   "id": "798b7704-867b-4f4a-b08d-811bda3cef60",
   "metadata": {},
   "outputs": [],
   "source": []
  },
  {
   "cell_type": "code",
   "execution_count": null,
   "id": "d24ef69d-6f02-4d87-ae38-ada6074cfa09",
   "metadata": {},
   "outputs": [],
   "source": []
  }
 ],
 "metadata": {
  "kernelspec": {
   "display_name": "Python 3 (ipykernel)",
   "language": "python",
   "name": "python3"
  },
  "language_info": {
   "codemirror_mode": {
    "name": "ipython",
    "version": 3
   },
   "file_extension": ".py",
   "mimetype": "text/x-python",
   "name": "python",
   "nbconvert_exporter": "python",
   "pygments_lexer": "ipython3",
   "version": "3.9.13"
  }
 },
 "nbformat": 4,
 "nbformat_minor": 5
}
